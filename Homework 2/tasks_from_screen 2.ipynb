{
 "cells": [
  {
   "cell_type": "code",
   "execution_count": 9,
   "id": "16e4fc6b-a0c5-4925-aee8-6e6cde671b99",
   "metadata": {},
   "outputs": [
    {
     "name": "stdout",
     "output_type": "stream",
     "text": [
      "3.7230820101533415\n"
     ]
    }
   ],
   "source": [
    "import math\n",
    "from typing import Union\n",
    "\n",
    "Number = Union[int, float]\n",
    "\n",
    "def y(x: Number) -> float:\n",
    "    \"\"\"\n",
    "     y(x) = ( cos(e^x) + ln(1+x)^2\n",
    "             + sqrt( e^(cos x) + sin(pi*x)^2) + sqrt(1/x) + cos(x)^2\n",
    "           )^(sin x)\n",
    "\n",
    "    Args:\n",
    "        x (int | float): The input value.\n",
    "\n",
    "    Returns:\n",
    "        float: The computed value of y(x).\n",
    "    \"\"\"\n",
    "\n",
    "    if x <= 0:\n",
    "        raise ValueError(\"x must be > 0 because of sqrt(1/x).\")\n",
    "\n",
    "    term1 = math.cos(math.e ** x)                          # cos(e**x)\n",
    "    term2 = math.log((1 + x) ** 2)                         # ln((1+x)**2)\n",
    "    term3 = math.sqrt(math.e ** math.cos(x) +              # sqrt(e**(cos x) + sin(pi*x)**2)\n",
    "                      math.sin(math.pi * x) ** 2)\n",
    "    term4 = math.sqrt(1 / x)                               # sqrt(1/x)\n",
    "    term5 = math.cos(x ** 2)                               # cos(x**2)\n",
    "\n",
    "    base = term1 + term2 + term3 + term4 + term5\n",
    "    if not math.isfinite(base) or base <= 0:\n",
    "        raise ValueError(\"Base must be a positive, finite number.\")\n",
    "\n",
    "    result = base ** math.sin(x)\n",
    "    if not math.isfinite(result):\n",
    "        raise ValueError(\"Result is not finite.\")\n",
    "\n",
    "    return result\n",
    "\n",
    "print(y(1.79))"
   ]
  },
  {
   "cell_type": "code",
   "execution_count": 12,
   "id": "54f47c4d-926c-4e77-82df-6df3aa889404",
   "metadata": {},
   "outputs": [
    {
     "name": "stdout",
     "output_type": "stream",
     "text": [
      "Есть контакт!\n",
      "Есть контакт!\n",
      "Мимо!\n"
     ]
    }
   ],
   "source": [
    "def search_substr(subst: str, st: str) -> str:\n",
    "    \"\"\"\n",
    "    Checks if `subst` is a substring of `st`, ignoring case.\n",
    "\n",
    "    Args:\n",
    "        subst (str): Substring to search for.\n",
    "        st (str): String in which to search.\n",
    "\n",
    "    Returns:\n",
    "        str: \"Есть контакт!\" if found, otherwise \"Мимо!\".\n",
    "    \"\"\"\n",
    "    if subst.lower() in st.lower():\n",
    "        return \"Есть контакт!\"\n",
    "    return \"Мимо!\"\n",
    "\n",
    "\n",
    "print(search_substr(\"контакт\", \"Есть КОНТАКТ!\"))\n",
    "print(search_substr(\"hello\", \"Hello World\"))\n",
    "print(search_substr(\"bye\", \"Hello World\"))"
   ]
  },
  {
   "cell_type": "code",
   "execution_count": 14,
   "id": "bdc1f320-a0c9-4203-a42c-7fad2ef1be90",
   "metadata": {},
   "outputs": [
    {
     "name": "stdout",
     "output_type": "stream",
     "text": [
      "[('l', 5), ('o', 4), ('h', 3)]\n"
     ]
    }
   ],
   "source": [
    "from collections import Counter\n",
    "from typing import List, Tuple\n",
    "\n",
    "\n",
    "def top3_chars(s: str) -> List[Tuple[str, int]]:\n",
    "    \"\"\"\n",
    "    Finds the 3 most common characters in a string, ignoring spaces.\n",
    "\n",
    "    Args:\n",
    "        s (str): Input string.\n",
    "\n",
    "    Returns:\n",
    "        list[tuple[str, int]]: A list of (character, count) pairs,\n",
    "        sorted by frequency in descending order.\n",
    "    \"\"\"\n",
    "    s_no_spaces = s.replace(\" \", \"\")\n",
    "    counter = Counter(s_no_spaces)\n",
    "    return counter.most_common(3)\n",
    "\n",
    "\n",
    "text = \"hello world, hello python\"\n",
    "print(top3_chars(text))"
   ]
  },
  {
   "cell_type": "code",
   "execution_count": 17,
   "id": "3bff5ff8-e4ef-44f6-a7a0-c4a5d0e250bf",
   "metadata": {},
   "outputs": [
    {
     "name": "stdout",
     "output_type": "stream",
     "text": [
      "{5: 5, 9: 3, 4: 3}\n"
     ]
    }
   ],
   "source": [
    "from collections import Counter\n",
    "from typing import Dict\n",
    "\n",
    "\n",
    "def count_it(sequence: str) -> Dict[int, int]:\n",
    "    \"\"\"\n",
    "    Counts the 3 most frequent digits in a string.\n",
    "\n",
    "    Args:\n",
    "        sequence (str): A string consisting of digits (0–9).\n",
    "\n",
    "    Returns:\n",
    "        dict[int, int]: Dictionary of 3 most common digits as keys\n",
    "                        and their counts as values.\n",
    "    \"\"\"\n",
    "    counter = Counter(int(ch) for ch in sequence if ch.isdigit())\n",
    "    most_common = counter.most_common(3)\n",
    "    return dict(most_common)\n",
    "\n",
    "\n",
    "seq = \"152390123994445555\"\n",
    "print(count_it(seq))"
   ]
  },
  {
   "cell_type": "code",
   "execution_count": 23,
   "id": "c049af5c-10e3-40ad-9af6-63d255704532",
   "metadata": {},
   "outputs": [
    {
     "name": "stdout",
     "output_type": "stream",
     "text": [
      "Наша фигура: (4, 4), враг (queen): (7, 7)\n",
      "Ферзь угрожает: та же диагональ.\n",
      "True\n",
      "Наша фигура: (4, 4), враг (queen): (6, 5)\n",
      "Ферзь не угрожает.\n",
      "False\n",
      "Наша фигура: (4, 4), враг (knight): (6, 5)\n",
      "Конь угрожает: ход буквой Г.\n",
      "True\n",
      "Наша фигура: (4, 4), враг (knight): (7, 7)\n",
      "Конь не угрожает.\n",
      "False\n"
     ]
    }
   ],
   "source": [
    "def is_threatened(piece: str, a: int, b: int, c: int, d: int) -> bool:\n",
    "    \"\"\"\n",
    "    Checks if an enemy piece at (c, d) threatens our piece at (a, b) \n",
    "    on a standard 8x8 chessboard, and prints an explanation.\n",
    "\n",
    "    Supported enemy pieces:\n",
    "        - \"queen\": attacks along row, column, or diagonal\n",
    "        - \"knight\": attacks in an L-shape (2 by 1 or 1 by 2)\n",
    "\n",
    "    Args:\n",
    "        piece (str): Type of the enemy piece (\"queen\" or \"knight\").\n",
    "        a (int): Row coordinate of our piece (1–8).\n",
    "        b (int): Column coordinate of our piece (1–8).\n",
    "        c (int): Row coordinate of the enemy piece (1–8).\n",
    "        d (int): Column coordinate of the enemy piece (1–8).\n",
    "\n",
    "    Returns:\n",
    "        bool: True if the enemy piece threatens our piece, False otherwise.\n",
    "    \"\"\"\n",
    "    \n",
    "    for coord in (a, b, c, d):\n",
    "        if not 1 <= coord <= 8:\n",
    "            raise ValueError(f\"Invalid coordinate: {coord}. Must be between 1 and 8.\")\n",
    "\n",
    "    print(f\"Наша фигура: ({a}, {b}), враг ({piece}): ({c}, {d})\")\n",
    "\n",
    "    if piece == \"queen\":\n",
    "        if a == c:\n",
    "            print(\"Ферзь угрожает: та же строка (горизонталь).\")\n",
    "            return True\n",
    "        elif b == d:\n",
    "            print(\"Ферзь угрожает: тот же столбец (вертикаль).\")\n",
    "            return True\n",
    "        elif abs(a - c) == abs(b - d):\n",
    "            print(\"Ферзь угрожает: та же диагональ.\")\n",
    "            return True\n",
    "        else:\n",
    "            print(\"Ферзь не угрожает.\")\n",
    "            return False\n",
    "\n",
    "    elif piece == \"knight\":\n",
    "        if (abs(a - c), abs(b - d)) in [(1, 2), (2, 1)]:\n",
    "            print(\"Конь угрожает: ход буквой Г.\")\n",
    "            return True\n",
    "        else:\n",
    "            print(\"Конь не угрожает.\")\n",
    "            return False\n",
    "\n",
    "    else:\n",
    "        raise ValueError(f\"Unsupported piece type: {piece}\")\n",
    "\n",
    "print(is_threatened(\"queen\", 4, 4, 7, 7))\n",
    "print(is_threatened(\"queen\", 4, 4, 6, 5))\n",
    "print(is_threatened(\"knight\", 4, 4, 6, 5))\n",
    "print(is_threatened(\"knight\", 4, 4, 7, 7))"
   ]
  },
  {
   "cell_type": "code",
   "execution_count": 21,
   "id": "2477d9d6-dbd3-4b73-aeb5-c614523877bf",
   "metadata": {},
   "outputs": [
    {
     "name": "stdout",
     "output_type": "stream",
     "text": [
      "Наш конь: (4, 4), фигура соперника: (6, 5)\n",
      "Конь угрожает: ход буквой Г (dx=2, dy=1).\n",
      "True\n",
      "Наш конь: (4, 4), фигура соперника: (7, 7)\n",
      "Конь не угрожает: dx=3, dy=3 не подходят для хода коня.\n",
      "False\n"
     ]
    }
   ],
   "source": [
    "def knight_threatens(a: int, b: int, c: int, d: int) -> bool:\n",
    "    \"\"\"\n",
    "    Checks if our knight at (a, b) can attack the opponent's piece at (c, d) \n",
    "    in one move on a standard 8x8 chessboard.\n",
    "\n",
    "    The knight moves in an \"L\" shape: two squares in one direction \n",
    "    and one square perpendicular.\n",
    "\n",
    "    Args:\n",
    "        a (int): Row of our knight (1–8).\n",
    "        b (int): Column of our knight (1–8).\n",
    "        c (int): Row of the opponent's piece (1–8).\n",
    "        d (int): Column of the opponent's piece (1–8).\n",
    "\n",
    "    Returns:\n",
    "        bool: True if the knight threatens the opponent's piece, False otherwise.\n",
    "    \"\"\"\n",
    "\n",
    "    for coord in (a, b, c, d):\n",
    "        if not 1 <= coord <= 8:\n",
    "            raise ValueError(f\"Invalid coordinate: {coord}. Must be between 1 and 8.\")\n",
    "\n",
    "    print(f\"Наш конь: ({a}, {b}), фигура соперника: ({c}, {d})\")\n",
    "\n",
    "    dx, dy = abs(a - c), abs(b - d)\n",
    "\n",
    "    if (dx, dy) in [(1, 2), (2, 1)]:\n",
    "        print(f\"Конь угрожает: ход буквой Г (dx={dx}, dy={dy}).\")\n",
    "        return True\n",
    "    else:\n",
    "        print(f\"Конь не угрожает: dx={dx}, dy={dy} не подходят для хода коня.\")\n",
    "        return False\n",
    "\n",
    "\n",
    "print(knight_threatens(4, 4, 6, 5))\n",
    "print(knight_threatens(4, 4, 7, 7))"
   ]
  },
  {
   "cell_type": "code",
   "execution_count": null,
   "id": "8465d41c-d1c4-4b78-8dd8-d79435e5863b",
   "metadata": {},
   "outputs": [],
   "source": []
  }
 ],
 "metadata": {
  "kernelspec": {
   "display_name": "Python 3 (ipykernel)",
   "language": "python",
   "name": "python3"
  },
  "language_info": {
   "codemirror_mode": {
    "name": "ipython",
    "version": 3
   },
   "file_extension": ".py",
   "mimetype": "text/x-python",
   "name": "python",
   "nbconvert_exporter": "python",
   "pygments_lexer": "ipython3",
   "version": "3.13.5"
  }
 },
 "nbformat": 4,
 "nbformat_minor": 5
}
