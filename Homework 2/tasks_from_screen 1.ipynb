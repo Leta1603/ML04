{
 "cells": [
  {
   "cell_type": "code",
   "execution_count": 5,
   "id": "0bdb698f-efae-4e17-be8c-530b4152eaab",
   "metadata": {},
   "outputs": [
    {
     "name": "stdout",
     "output_type": "stream",
     "text": [
      "5) y^2 - 12y + 20 = 0 → [2, 10]\n",
      "6) z^2 + 17z + 72 = 0 → [-9, -8]\n",
      "7) x^2 - 7x - 44 = 0 → [-4, 11]\n",
      "8) y^2 + 9y + 8 = 0 → [-8, -1]\n",
      "9) b^2 - 2b - 63 = 0 → [-7, 9]\n",
      "10) (x^2 - 8)^2 + 4(x^2 - 8) - 5 = 0 → [-3, 3, -sqrt(3), sqrt(3)]\n"
     ]
    }
   ],
   "source": [
    "from sympy import symbols, solve\n",
    "\n",
    "x, y, z, b = symbols(\"x y z b\")\n",
    "\n",
    "equations = {\n",
    "    \"5) y^2 - 12y + 20 = 0\": (y**2 - 12*y + 20, y),\n",
    "    \"6) z^2 + 17z + 72 = 0\": (z**2 + 17*z + 72, z),\n",
    "    \"7) x^2 - 7x - 44 = 0\": (x**2 - 7*x - 44, x),\n",
    "    \"8) y^2 + 9y + 8 = 0\": (y**2 + 9*y + 8, y),\n",
    "    \"9) b^2 - 2b - 63 = 0\": (b**2 - 2*b - 63, b),\n",
    "    \"10) (x^2 - 8)^2 + 4(x^2 - 8) - 5 = 0\": ((x**2 - 8)**2 + 4*(x**2 -8) - 5, x),\n",
    "}\n",
    "\n",
    "for name, (eq, var) in equations.items():\n",
    "    roots = solve(eq, var)\n",
    "    print(f\"{name} → {roots}\")"
   ]
  },
  {
   "cell_type": "code",
   "execution_count": 7,
   "id": "a40f7f0e-4be2-4dfd-97f4-be0fa40acdd0",
   "metadata": {},
   "outputs": [
    {
     "name": "stdout",
     "output_type": "stream",
     "text": [
      "[5, 4, 3, 2, 1]\n"
     ]
    }
   ],
   "source": [
    "numbers = [1, 2, 3, 4, 5]\n",
    "numbers.reverse()\n",
    "print(numbers)\n"
   ]
  },
  {
   "cell_type": "code",
   "execution_count": 12,
   "id": "f5733414-562d-4cb6-a736-212ed5ad9b06",
   "metadata": {},
   "outputs": [
    {
     "name": "stdout",
     "output_type": "stream",
     "text": [
      "[5, 2, 3, 4, 1]\n"
     ]
    }
   ],
   "source": [
    "lst = [1, 2, 3, 4, 5]\n",
    "\n",
    "def change(lst):\n",
    "    \"\"\"\n",
    "    Swaps the first and last elements of a list.\n",
    "\n",
    "    Args:\n",
    "        lst (list[int]): A list of integers.\n",
    "\n",
    "    Returns:\n",
    "        list[int]: The same list with the first and last elements swapped.\n",
    "                   If the list has fewer than 2 elements, it is returned unchanged.\n",
    "    \"\"\"\n",
    "    \n",
    "    if len(lst) < 2:\n",
    "        print(\"List too short (needs at least 2 elements).\")\n",
    "        return lst\n",
    "\n",
    "    lst[0], lst[-1] = lst[-1], lst[0]\n",
    "    print(lst)\n",
    "\n",
    "\n",
    "change(lst)"
   ]
  },
  {
   "cell_type": "code",
   "execution_count": 13,
   "id": "398984d7-99ff-485f-9f70-aa19233694c0",
   "metadata": {},
   "outputs": [
    {
     "name": "stdout",
     "output_type": "stream",
     "text": [
      "1.0\n",
      "10.0\n",
      "-1.0\n",
      "None\n"
     ]
    }
   ],
   "source": [
    "from typing import List, Union, Optional\n",
    "\n",
    "def useless(s:List[Union[int, float]]) -> Optional[float]:\n",
    "    \"\"\"\n",
    "    Calculates a \"useless\" number based on a given list of numbers.\n",
    "\n",
    "    Finds the maximum value in the list and divides it by the list length.\n",
    "    \n",
    "    Args:\n",
    "        s (list[int | float]): A list of numeric values. Must contain at least one element.\n",
    "\n",
    "    Returns:\n",
    "        float: The maximum element divided by the length of the list.\n",
    "        None: If the list is empty.\n",
    "\n",
    "    \"\"\"\n",
    "    \n",
    "    if len(s) == 0:\n",
    "        return None\n",
    "\n",
    "    return max(s) / len(s)\n",
    "\n",
    "print(useless([1, 2, 3, 4, 5]))\n",
    "print(useless([10, 20, 30]))\n",
    "print(useless([-7, -3, -5]))\n",
    "print(useless([]))"
   ]
  },
  {
   "cell_type": "code",
   "execution_count": 15,
   "id": "2e0c5536-ebae-4e32-bc6e-db0de551acd2",
   "metadata": {},
   "outputs": [
    {
     "name": "stdout",
     "output_type": "stream",
     "text": [
      "['крот____', 'белка___', 'выхухоль']\n"
     ]
    }
   ],
   "source": [
    "from typing import List\n",
    "\n",
    "def all_eq(lst: List[str]) -> List[str]:\n",
    "    \"\"\"\n",
    "     Makes all strings in the list the same length by padding with underscores (_).\n",
    "\n",
    "    The target length is the length of the longest string in the list.\n",
    "\n",
    "    Args:\n",
    "        lst (list[str]): A list of strings.\n",
    "\n",
    "    Returns:\n",
    "        list[str]: A new list where all strings are of equal length.\n",
    "    \"\"\"\n",
    "\n",
    "    if not lst:\n",
    "        return []\n",
    "\n",
    "    max_len = max(len(s) for s in lst)\n",
    "    return [s.ljust(max_len, \"_\") for s in lst]\n",
    "\n",
    "print(all_eq(['крот', 'белка', 'выхухоль']))"
   ]
  }
 ],
 "metadata": {
  "kernelspec": {
   "display_name": "Python 3 (ipykernel)",
   "language": "python",
   "name": "python3"
  },
  "language_info": {
   "codemirror_mode": {
    "name": "ipython",
    "version": 3
   },
   "file_extension": ".py",
   "mimetype": "text/x-python",
   "name": "python",
   "nbconvert_exporter": "python",
   "pygments_lexer": "ipython3",
   "version": "3.13.5"
  }
 },
 "nbformat": 4,
 "nbformat_minor": 5
}
