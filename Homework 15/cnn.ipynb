{
 "cells": [
  {
   "cell_type": "code",
   "execution_count": 46,
   "id": "288e7cb2-c4ec-4909-9a57-9b9b0aedd0ef",
   "metadata": {},
   "outputs": [],
   "source": [
    "import torch\n",
    "import torchvision\n",
    "import torchvision.transforms as transforms\n",
    "import torch.nn as nn\n",
    "import torch.nn.functional as F\n",
    "import torch.optim as optim\n",
    "\n",
    "import numpy as np\n",
    "import matplotlib.pyplot as plt\n",
    "\n",
    "from sklearn.metrics import classification_report, confusion_matrix, ConfusionMatrixDisplay\n",
    "import seaborn as sns"
   ]
  },
  {
   "cell_type": "code",
   "execution_count": 59,
   "id": "0e9265e9-fff2-4ed6-b705-f91b1bbcbd6f",
   "metadata": {},
   "outputs": [
    {
     "data": {
      "text/plain": [
       "device(type='cpu')"
      ]
     },
     "execution_count": 59,
     "metadata": {},
     "output_type": "execute_result"
    }
   ],
   "source": [
    "device = torch.device(\"cuda\" if torch.cuda.is_available() else \"cpu\")\n",
    "device"
   ]
  },
  {
   "cell_type": "code",
   "execution_count": 15,
   "id": "c8c751b8-7be1-42d9-a15c-491012b97644",
   "metadata": {},
   "outputs": [],
   "source": [
    "torch.manual_seed(42)\n",
    "np.random.seed(42)"
   ]
  },
  {
   "cell_type": "code",
   "execution_count": 17,
   "id": "4febb526-b732-47b1-b269-ee27fdbb5ddb",
   "metadata": {},
   "outputs": [],
   "source": [
    "transform = transforms.Compose([transforms.ToTensor()])"
   ]
  },
  {
   "cell_type": "code",
   "execution_count": 31,
   "id": "8d279d68-7726-4d05-a6fa-19991e14240e",
   "metadata": {},
   "outputs": [
    {
     "name": "stderr",
     "output_type": "stream",
     "text": [
      "100%|██████████| 26.4M/26.4M [00:09<00:00, 2.75MB/s]\n",
      "100%|██████████| 29.5k/29.5k [00:00<00:00, 401kB/s]\n",
      "100%|██████████| 4.42M/4.42M [00:03<00:00, 1.27MB/s]\n",
      "100%|██████████| 5.15k/5.15k [00:00<00:00, 67.1kB/s]\n"
     ]
    }
   ],
   "source": [
    "trainset = torchvision.datasets.FashionMNIST(root='./data', train=True, download=True, transform=transform)\n",
    "trainloader = torch.utils.data.DataLoader(trainset, batch_size=4, shuffle=True, num_workers=2)\n",
    "\n",
    "testset = torchvision.datasets.FashionMNIST(root='./data', train=False, download=True, transform=transform)\n",
    "testloader = torch.utils.data.DataLoader(testset, batch_size=4, shuffle=False, num_workers=2)"
   ]
  },
  {
   "cell_type": "code",
   "execution_count": 32,
   "id": "3aa85e49-be0d-4b68-a156-0f702a13f1d6",
   "metadata": {},
   "outputs": [],
   "source": [
    "classes = ('T-shirt/top', 'Trouser', 'Pullover', 'Dress', 'Coat', 'Sandal', 'Shirt', 'Sneaker', 'Bag', 'Ankle boot')"
   ]
  },
  {
   "cell_type": "code",
   "execution_count": 33,
   "id": "97d0ff8d-9fc5-45b6-9a5e-0697b9c3f64b",
   "metadata": {},
   "outputs": [],
   "source": [
    "class BasicCNN(nn.Module):\n",
    "    def __init__(self):\n",
    "        super(BasicCNN, self).__init__()\n",
    "        # Input: [1, 28, 28]\n",
    "        # Свёртка №1: из 1 входного канала делает 32 карты признаков ядром 3×3.\n",
    "        self.conv1 = nn.Conv2d(1, 32, 3)  # Output: [32, 26, 26]\n",
    "        \n",
    "        # Input: [32, 26, 26]\n",
    "        # Свёртка №2: из 32 каналов делает 64 карты признаков ядром 3×3.\n",
    "        self.conv2 = nn.Conv2d(32, 64, 3) # Output: [64, 11, 11]\n",
    "        \n",
    "        self.fc1 = nn.Linear(64 * 5 * 5, 128)  # Flattening: [batch_size, 64*5*5]\n",
    "        self.fc2 = nn.Linear(128, 10)\n",
    "\n",
    "    def forward(self, x):\n",
    "        # Input: [1, 28, 28]\n",
    "        x = F.relu(self.conv1(x))\n",
    "        # Shape: [32, 26, 26]\n",
    "        x = F.max_pool2d(x, 2)\n",
    "        # Shape: [32, 13, 13]\n",
    "        \n",
    "        x = F.relu(self.conv2(x))\n",
    "        # Shape: [64, 11, 11]\n",
    "        x = F.max_pool2d(x, 2)\n",
    "        # Shape: [64, 5, 5]\n",
    "        \n",
    "        x = x.view(-1, 64 * 5 * 5) # Flattening\n",
    "        x = F.relu(self.fc1(x))\n",
    "        x = self.fc2(x)\n",
    "        return F.log_softmax(x, dim=1)"
   ]
  },
  {
   "cell_type": "code",
   "execution_count": 34,
   "id": "0ae089b1-a648-4bec-bd54-8ae1f6475a7d",
   "metadata": {},
   "outputs": [],
   "source": [
    "model = BasicCNN().to(device)"
   ]
  },
  {
   "cell_type": "code",
   "execution_count": 37,
   "id": "da0b0262-6153-4420-b9db-de9c89d1f69e",
   "metadata": {},
   "outputs": [],
   "source": [
    "optimizer = torch.optim.Adam(model.parameters(), lr=0.001)\n",
    "criterion = nn.CrossEntropyLoss()"
   ]
  },
  {
   "cell_type": "code",
   "execution_count": 51,
   "id": "fe8581ac-4901-4e1c-9cfc-5ee7e9eb1ae6",
   "metadata": {},
   "outputs": [
    {
     "name": "stdout",
     "output_type": "stream",
     "text": [
      "Epoch [1/5], Loss: 0.1116\n",
      "Epoch [2/5], Loss: 0.1089\n",
      "Epoch [3/5], Loss: 0.1063\n",
      "Epoch [4/5], Loss: 0.0986\n",
      "Epoch [5/5], Loss: 0.0975\n"
     ]
    }
   ],
   "source": [
    "num_epochs = 5\n",
    "\n",
    "for epoch in range(num_epochs):\n",
    "    running_loss = 0.0\n",
    "    model.train()\n",
    "    \n",
    "    for i, (images, labels) in enumerate(trainloader):\n",
    "        images, labels = images.to(device), labels.to(device)\n",
    "        \n",
    "        # Очистка градиента после предыдущей итерации\n",
    "        optimizer.zero_grad()\n",
    "        \n",
    "        # Прямой проход (Forward pass)\n",
    "        outputs = model(images)\n",
    "        \n",
    "        loss = criterion(outputs, labels)\n",
    "        \n",
    "        # Обратный проход (Backward pass)\n",
    "        loss.backward()\n",
    "        \n",
    "        # Обновление параметров\n",
    "        optimizer.step()\n",
    "\n",
    "        running_loss += loss.item()\n",
    "\n",
    "    print(f\"Epoch [{epoch+1}/{num_epochs}], Loss: {running_loss/len(trainloader):.4f}\")"
   ]
  },
  {
   "cell_type": "code",
   "execution_count": 54,
   "id": "3d14729b-3bda-4fd0-a9df-92edb59d4894",
   "metadata": {},
   "outputs": [],
   "source": [
    "model.eval()\n",
    "correct, total = 0, 0\n",
    "\n",
    "all_preds = []\n",
    "all_labels = []"
   ]
  },
  {
   "cell_type": "code",
   "execution_count": 58,
   "id": "f667024d-24d0-4ce7-86b2-0aa7adaa36d9",
   "metadata": {},
   "outputs": [
    {
     "name": "stdout",
     "output_type": "stream",
     "text": [
      "Test Accuracy: 0.90\n"
     ]
    }
   ],
   "source": [
    "with torch.no_grad():\n",
    "    for images, labels in testloader:\n",
    "        images, labels = images.to(device), labels.to(device)\n",
    "        \n",
    "        outputs = model(images)\n",
    "        \n",
    "        _, predicted = torch.max(outputs, 1)\n",
    "        \n",
    "        all_preds.extend(predicted.cpu().numpy())\n",
    "        \n",
    "        all_labels.extend(labels.cpu().numpy())\n",
    "\n",
    "        total += labels.size(0)\n",
    "        correct += (predicted == labels).sum().item()\n",
    "\n",
    "accuracy = correct / total\n",
    "print(f\"Test Accuracy: {accuracy:.2f}\")"
   ]
  },
  {
   "cell_type": "code",
   "execution_count": 56,
   "id": "ad5dd33e-772d-4c52-83fa-4380ba04ab46",
   "metadata": {},
   "outputs": [
    {
     "name": "stdout",
     "output_type": "stream",
     "text": [
      "              precision    recall  f1-score   support\n",
      "\n",
      " T-shirt/top       0.87      0.81      0.84      1000\n",
      "     Trouser       0.99      0.97      0.98      1000\n",
      "    Pullover       0.85      0.85      0.85      1000\n",
      "       Dress       0.90      0.89      0.89      1000\n",
      "        Coat       0.83      0.84      0.83      1000\n",
      "      Sandal       0.98      0.97      0.98      1000\n",
      "       Shirt       0.70      0.75      0.72      1000\n",
      "     Sneaker       0.95      0.97      0.96      1000\n",
      "         Bag       0.98      0.97      0.98      1000\n",
      "  Ankle boot       0.96      0.96      0.96      1000\n",
      "\n",
      "    accuracy                           0.90     10000\n",
      "   macro avg       0.90      0.90      0.90     10000\n",
      "weighted avg       0.90      0.90      0.90     10000\n",
      "\n"
     ]
    }
   ],
   "source": [
    "print(classification_report(all_labels, all_preds, target_names=classes))"
   ]
  },
  {
   "cell_type": "code",
   "execution_count": 57,
   "id": "670fd4ef-9cf8-428f-a17e-e0e130c0373e",
   "metadata": {},
   "outputs": [
    {
     "data": {
      "image/png": "[encoded data removed]",
      "text/plain": [
       "<Figure size 1000x1000 with 2 Axes>"
      ]
     },
     "metadata": {},
     "output_type": "display_data"
    }
   ],
   "source": [
    "cm = confusion_matrix(all_labels, all_preds)\n",
    "disp = ConfusionMatrixDisplay(confusion_matrix=cm, display_labels=classes)\n",
    "fig, ax = plt.subplots(figsize=(10, 10))\n",
    "disp.plot(ax=ax)\n",
    "plt.show()"
   ]
  },
  {
   "cell_type": "code",
   "execution_count": 60,
   "id": "964fbd8d-af21-4276-9fbe-9e065390595e",
   "metadata": {},
   "outputs": [
    {
     "data": {
      "text/plain": [
       "BasicCNN(\n",
       "  (conv1): Conv2d(1, 32, kernel_size=(3, 3), stride=(1, 1))\n",
       "  (conv2): Conv2d(32, 64, kernel_size=(3, 3), stride=(1, 1))\n",
       "  (fc1): Linear(in_features=1600, out_features=128, bias=True)\n",
       "  (fc2): Linear(in_features=128, out_features=10, bias=True)\n",
       ")"
      ]
     },
     "execution_count": 60,
     "metadata": {},
     "output_type": "execute_result"
    }
   ],
   "source": [
    "model.to(device)"
   ]
  },
  {
   "cell_type": "markdown",
   "id": "f785d964-750a-4717-8e8c-49f7ce04a665",
   "metadata": {},
   "source": [
    "Базовая CNN с двумя свёртками и двумя пулингами показала 90% точности.\n",
    "\n",
    "Проверим, как влияет уменьшение pooling"
   ]
  },
  {
   "cell_type": "code",
   "execution_count": 71,
   "id": "416487f5-2008-4a78-bef7-75fcd50c1109",
   "metadata": {},
   "outputs": [],
   "source": [
    "class BasicCNN(nn.Module):\n",
    "    def __init__(self):\n",
    "        super(BasicCNN, self).__init__()\n",
    "        self.conv1 = nn.Conv2d(1, 32, kernel_size=3, padding=1)\n",
    "\n",
    "        self.pool = nn.MaxPool2d(2, 2)\n",
    "        \n",
    "        self.conv2 = nn.Conv2d(32, 64, kernel_size=3, padding=1)\n",
    "        \n",
    "        self.fc1 = nn.Linear(64 * 14 * 14, 128)\n",
    "        self.fc2 = nn.Linear(128, 10)\n",
    "\n",
    "    def forward(self, x):\n",
    "        # Input: [1, 28, 28]\n",
    "        x = F.relu(self.conv1(x)) # Output: [32, 28, 28]\n",
    "        x = self.pool(x) # Output: [32, 14, 14]\n",
    "        x = F.relu(self.conv2(x))\n",
    "        \n",
    "        x = x.view(-1, 64 * 14 * 14)\n",
    "        x = F.relu(self.fc1(x))\n",
    "        x = self.fc2(x)\n",
    "        return F.log_softmax(x, dim=1)"
   ]
  },
  {
   "cell_type": "code",
   "execution_count": 72,
   "id": "ed87a659-ae13-4f35-aca1-d40948dbf4bd",
   "metadata": {},
   "outputs": [
    {
     "name": "stdout",
     "output_type": "stream",
     "text": [
      "Epoch [1/5], Loss: 0.3682\n",
      "Epoch [2/5], Loss: 0.2471\n",
      "Epoch [3/5], Loss: 0.2020\n",
      "Epoch [4/5], Loss: 0.1676\n",
      "Epoch [5/5], Loss: 0.1440\n",
      "Test Accuracy: 0.91\n"
     ]
    }
   ],
   "source": [
    "model = BasicCNN().to(device)\n",
    "\n",
    "optimizer = torch.optim.Adam(model.parameters(), lr=0.001)\n",
    "criterion = nn.CrossEntropyLoss()\n",
    "\n",
    "num_epochs = 5\n",
    "\n",
    "for epoch in range(num_epochs):\n",
    "    running_loss = 0.0\n",
    "    model.train()\n",
    "    \n",
    "    for i, (images, labels) in enumerate(trainloader):\n",
    "        images, labels = images.to(device), labels.to(device)\n",
    "        \n",
    "        # Очистка градиента после предыдущей итерации\n",
    "        optimizer.zero_grad()\n",
    "        \n",
    "        # Прямой проход (Forward pass)\n",
    "        outputs = model(images)\n",
    "        \n",
    "        loss = criterion(outputs, labels)\n",
    "        \n",
    "        # Обратный проход (Backward pass)\n",
    "        loss.backward()\n",
    "        \n",
    "        # Обновление параметров\n",
    "        optimizer.step()\n",
    "\n",
    "        running_loss += loss.item()\n",
    "\n",
    "    print(f\"Epoch [{epoch+1}/{num_epochs}], Loss: {running_loss/len(trainloader):.4f}\")\n",
    "\n",
    "model.eval()\n",
    "correct, total = 0, 0\n",
    "\n",
    "all_preds = []\n",
    "all_labels = []\n",
    "\n",
    "with torch.no_grad():\n",
    "    for images, labels in testloader:\n",
    "        images, labels = images.to(device), labels.to(device)\n",
    "        \n",
    "        outputs = model(images)\n",
    "        \n",
    "        _, predicted = torch.max(outputs, 1)\n",
    "        \n",
    "        all_preds.extend(predicted.cpu().numpy())\n",
    "        \n",
    "        all_labels.extend(labels.cpu().numpy())\n",
    "\n",
    "        total += labels.size(0)\n",
    "        correct += (predicted == labels).sum().item()\n",
    "\n",
    "accuracy = correct / total\n",
    "print(f\"Test Accuracy: {accuracy:.2f}\")"
   ]
  },
  {
   "cell_type": "markdown",
   "id": "01cf65b0-f00f-40aa-aa24-f5d3c28992c5",
   "metadata": {},
   "source": [
    "1 pooling + padding = 1\n",
    "\n",
    "Accuracy вырос с 0.90 до 0.91, но Loss тоже вырос с 0.0975 до 0.1440. Это можно объяснить тем, что мы убрали второй пулинг, а значит сеть сохранила больше деталей и чаще правильно определяет класс. Но предсказания стали менее уверенными.\n",
    "\n",
    "Попробуем вовсе убрать паддинг."
   ]
  },
  {
   "cell_type": "code",
   "execution_count": 73,
   "id": "1d5c57aa-48b0-4240-b73c-f90d6131f712",
   "metadata": {},
   "outputs": [],
   "source": [
    "class BasicCNN(nn.Module):\n",
    "    def __init__(self):\n",
    "        super(BasicCNN, self).__init__()\n",
    "        self.conv1 = nn.Conv2d(1, 32, kernel_size=3, padding=0)\n",
    "\n",
    "        self.pool = nn.MaxPool2d(2, 2)\n",
    "        \n",
    "        self.conv2 = nn.Conv2d(32, 64, kernel_size=3, padding=0)\n",
    "        \n",
    "        self.fc1 = nn.Linear(64 * 11 * 11, 128)\n",
    "        self.fc2 = nn.Linear(128, 10)\n",
    "\n",
    "    def forward(self, x):\n",
    "        # Input: [1, 28, 28]\n",
    "        x = F.relu(self.conv1(x))\n",
    "        x = self.pool(x)\n",
    "        x = F.relu(self.conv2(x))\n",
    "        \n",
    "        x = torch.flatten(x, 1) \n",
    "        x = F.relu(self.fc1(x))\n",
    "        x = self.fc2(x)\n",
    "        return F.log_softmax(x, dim=1)"
   ]
  },
  {
   "cell_type": "code",
   "execution_count": 75,
   "id": "2315c84e-ee21-4864-b0d4-e8236ea8377b",
   "metadata": {},
   "outputs": [
    {
     "name": "stdout",
     "output_type": "stream",
     "text": [
      "Epoch [1/5], Loss: 0.3719\n",
      "Epoch [2/5], Loss: 0.2457\n",
      "Epoch [3/5], Loss: 0.1975\n",
      "Epoch [4/5], Loss: 0.1662\n",
      "Epoch [5/5], Loss: 0.1408\n",
      "Test Accuracy: 0.91\n"
     ]
    }
   ],
   "source": [
    "model = BasicCNN().to(device)\n",
    "\n",
    "optimizer = torch.optim.Adam(model.parameters(), lr=0.001)\n",
    "criterion = nn.CrossEntropyLoss()\n",
    "\n",
    "num_epochs = 5\n",
    "\n",
    "for epoch in range(num_epochs):\n",
    "    running_loss = 0.0\n",
    "    model.train()\n",
    "    \n",
    "    for i, (images, labels) in enumerate(trainloader):\n",
    "        images, labels = images.to(device), labels.to(device)\n",
    "        \n",
    "        # Очистка градиента после предыдущей итерации\n",
    "        optimizer.zero_grad()\n",
    "        \n",
    "        # Прямой проход (Forward pass)\n",
    "        outputs = model(images)\n",
    "        \n",
    "        loss = criterion(outputs, labels)\n",
    "        \n",
    "        # Обратный проход (Backward pass)\n",
    "        loss.backward()\n",
    "        \n",
    "        # Обновление параметров\n",
    "        optimizer.step()\n",
    "\n",
    "        running_loss += loss.item()\n",
    "\n",
    "    print(f\"Epoch [{epoch+1}/{num_epochs}], Loss: {running_loss/len(trainloader):.4f}\")\n",
    "\n",
    "model.eval()\n",
    "correct, total = 0, 0\n",
    "\n",
    "all_preds = []\n",
    "all_labels = []\n",
    "\n",
    "with torch.no_grad():\n",
    "    for images, labels in testloader:\n",
    "        images, labels = images.to(device), labels.to(device)\n",
    "        \n",
    "        outputs = model(images)\n",
    "        \n",
    "        _, predicted = torch.max(outputs, 1)\n",
    "        \n",
    "        all_preds.extend(predicted.cpu().numpy())\n",
    "        \n",
    "        all_labels.extend(labels.cpu().numpy())\n",
    "\n",
    "        total += labels.size(0)\n",
    "        correct += (predicted == labels).sum().item()\n",
    "\n",
    "accuracy = correct / total\n",
    "print(f\"Test Accuracy: {accuracy:.2f}\")"
   ]
  },
  {
   "cell_type": "code",
   "execution_count": null,
   "id": "511359ed-270e-4bec-a315-162a6e7f9e7a",
   "metadata": {},
   "outputs": [],
   "source": []
  }
 ],
 "metadata": {
  "kernelspec": {
   "display_name": "Python 3 (ipykernel)",
   "language": "python",
   "name": "python3"
  },
  "language_info": {
   "codemirror_mode": {
    "name": "ipython",
    "version": 3
   },
   "file_extension": ".py",
   "mimetype": "text/x-python",
   "name": "python",
   "nbconvert_exporter": "python",
   "pygments_lexer": "ipython3",
   "version": "3.13.5"
  }
 },
 "nbformat": 4,
 "nbformat_minor": 5
}
