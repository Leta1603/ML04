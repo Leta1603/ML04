{
 "cells": [
  {
   "cell_type": "code",
   "execution_count": 65,
   "id": "8269d42a-4cfd-4e2a-bf75-f54def67fe5f",
   "metadata": {},
   "outputs": [],
   "source": [
    "import numpy as np\n",
    "import pandas as pd\n",
    "import matplotlib.pyplot as plt\n",
    "import seaborn as sns\n",
    "\n",
    "from sklearn.compose import ColumnTransformer\n",
    "from sklearn.pipeline import Pipeline\n",
    "from sklearn.impute import SimpleImputer\n",
    "from sklearn.preprocessing import LabelEncoder, StandardScaler, OneHotEncoder\n",
    "from sklearn.model_selection import train_test_split\n",
    "from sklearn.metrics import mean_squared_error, mean_absolute_error, r2_score\n",
    "from sklearn.linear_model import LinearRegression\n",
    "from sklearn.svm import SVR\n",
    "from sklearn.tree import DecisionTreeRegressor\n",
    "from sklearn.ensemble import RandomForestRegressor\n",
    "\n",
    "from hyperopt import fmin, tpe, hp, Trials, STATUS_OK\n",
    "\n",
    "sns.set_palette(\"pastel\")"
   ]
  },
  {
   "cell_type": "markdown",
   "id": "9262ef42-8272-476b-8371-043bb276ad30",
   "metadata": {},
   "source": [
    "## Анализ"
   ]
  },
  {
   "cell_type": "markdown",
   "id": "c869930e-1ec2-40a8-be73-cd386a95b36f",
   "metadata": {},
   "source": [
    "#### Датасет по страховке\n",
    "\n",
    "#### Столбцы:\n",
    "\n",
    "* **Charges** - расходы\n",
    "* **Sex** - пол\n",
    "* **Age** - возраст\n",
    "* **Bmi** - индекс массы тела\n",
    "* **Smoker** - курит ли человек\n",
    "* **Children** - количество детей\n",
    "* **Region** - регион"
   ]
  },
  {
   "cell_type": "code",
   "execution_count": 5,
   "id": "507935cd-de7a-42cb-8ea2-6315dc9cfc5d",
   "metadata": {},
   "outputs": [
    {
     "data": {
      "text/html": [
       "<div>\n",
       "<style scoped>\n",
       "    .dataframe tbody tr th:only-of-type {\n",
       "        vertical-align: middle;\n",
       "    }\n",
       "\n",
       "    .dataframe tbody tr th {\n",
       "        vertical-align: top;\n",
       "    }\n",
       "\n",
       "    .dataframe thead th {\n",
       "        text-align: right;\n",
       "    }\n",
       "</style>\n",
       "<table border=\"1\" class=\"dataframe\">\n",
       "  <thead>\n",
       "    <tr style=\"text-align: right;\">\n",
       "      <th></th>\n",
       "      <th>age</th>\n",
       "      <th>sex</th>\n",
       "      <th>bmi</th>\n",
       "      <th>children</th>\n",
       "      <th>smoker</th>\n",
       "      <th>region</th>\n",
       "      <th>charges</th>\n",
       "    </tr>\n",
       "  </thead>\n",
       "  <tbody>\n",
       "    <tr>\n",
       "      <th>0</th>\n",
       "      <td>19</td>\n",
       "      <td>female</td>\n",
       "      <td>27.900</td>\n",
       "      <td>0</td>\n",
       "      <td>yes</td>\n",
       "      <td>southwest</td>\n",
       "      <td>16884.92400</td>\n",
       "    </tr>\n",
       "    <tr>\n",
       "      <th>1</th>\n",
       "      <td>18</td>\n",
       "      <td>male</td>\n",
       "      <td>33.770</td>\n",
       "      <td>1</td>\n",
       "      <td>no</td>\n",
       "      <td>southeast</td>\n",
       "      <td>1725.55230</td>\n",
       "    </tr>\n",
       "    <tr>\n",
       "      <th>2</th>\n",
       "      <td>28</td>\n",
       "      <td>male</td>\n",
       "      <td>33.000</td>\n",
       "      <td>3</td>\n",
       "      <td>no</td>\n",
       "      <td>southeast</td>\n",
       "      <td>4449.46200</td>\n",
       "    </tr>\n",
       "    <tr>\n",
       "      <th>3</th>\n",
       "      <td>33</td>\n",
       "      <td>male</td>\n",
       "      <td>22.705</td>\n",
       "      <td>0</td>\n",
       "      <td>no</td>\n",
       "      <td>northwest</td>\n",
       "      <td>21984.47061</td>\n",
       "    </tr>\n",
       "    <tr>\n",
       "      <th>4</th>\n",
       "      <td>32</td>\n",
       "      <td>male</td>\n",
       "      <td>28.880</td>\n",
       "      <td>0</td>\n",
       "      <td>no</td>\n",
       "      <td>northwest</td>\n",
       "      <td>3866.85520</td>\n",
       "    </tr>\n",
       "    <tr>\n",
       "      <th>...</th>\n",
       "      <td>...</td>\n",
       "      <td>...</td>\n",
       "      <td>...</td>\n",
       "      <td>...</td>\n",
       "      <td>...</td>\n",
       "      <td>...</td>\n",
       "      <td>...</td>\n",
       "    </tr>\n",
       "    <tr>\n",
       "      <th>1333</th>\n",
       "      <td>50</td>\n",
       "      <td>male</td>\n",
       "      <td>30.970</td>\n",
       "      <td>3</td>\n",
       "      <td>no</td>\n",
       "      <td>northwest</td>\n",
       "      <td>10600.54830</td>\n",
       "    </tr>\n",
       "    <tr>\n",
       "      <th>1334</th>\n",
       "      <td>18</td>\n",
       "      <td>female</td>\n",
       "      <td>31.920</td>\n",
       "      <td>0</td>\n",
       "      <td>no</td>\n",
       "      <td>northeast</td>\n",
       "      <td>2205.98080</td>\n",
       "    </tr>\n",
       "    <tr>\n",
       "      <th>1335</th>\n",
       "      <td>18</td>\n",
       "      <td>female</td>\n",
       "      <td>36.850</td>\n",
       "      <td>0</td>\n",
       "      <td>no</td>\n",
       "      <td>southeast</td>\n",
       "      <td>1629.83350</td>\n",
       "    </tr>\n",
       "    <tr>\n",
       "      <th>1336</th>\n",
       "      <td>21</td>\n",
       "      <td>female</td>\n",
       "      <td>25.800</td>\n",
       "      <td>0</td>\n",
       "      <td>no</td>\n",
       "      <td>southwest</td>\n",
       "      <td>2007.94500</td>\n",
       "    </tr>\n",
       "    <tr>\n",
       "      <th>1337</th>\n",
       "      <td>61</td>\n",
       "      <td>female</td>\n",
       "      <td>29.070</td>\n",
       "      <td>0</td>\n",
       "      <td>yes</td>\n",
       "      <td>northwest</td>\n",
       "      <td>29141.36030</td>\n",
       "    </tr>\n",
       "  </tbody>\n",
       "</table>\n",
       "<p>1338 rows × 7 columns</p>\n",
       "</div>"
      ],
      "text/plain": [
       "      age     sex     bmi  children smoker     region      charges\n",
       "0      19  female  27.900         0    yes  southwest  16884.92400\n",
       "1      18    male  33.770         1     no  southeast   1725.55230\n",
       "2      28    male  33.000         3     no  southeast   4449.46200\n",
       "3      33    male  22.705         0     no  northwest  21984.47061\n",
       "4      32    male  28.880         0     no  northwest   3866.85520\n",
       "...   ...     ...     ...       ...    ...        ...          ...\n",
       "1333   50    male  30.970         3     no  northwest  10600.54830\n",
       "1334   18  female  31.920         0     no  northeast   2205.98080\n",
       "1335   18  female  36.850         0     no  southeast   1629.83350\n",
       "1336   21  female  25.800         0     no  southwest   2007.94500\n",
       "1337   61  female  29.070         0    yes  northwest  29141.36030\n",
       "\n",
       "[1338 rows x 7 columns]"
      ]
     },
     "execution_count": 5,
     "metadata": {},
     "output_type": "execute_result"
    }
   ],
   "source": [
    "df = pd.read_csv('insurance.csv')\n",
    "df"
   ]
  },
  {
   "cell_type": "code",
   "execution_count": 6,
   "id": "db491ff5-f2c3-4e60-b690-f93100d11272",
   "metadata": {},
   "outputs": [
    {
     "data": {
      "text/plain": [
       "(1338, 7)"
      ]
     },
     "execution_count": 6,
     "metadata": {},
     "output_type": "execute_result"
    }
   ],
   "source": [
    "df.shape"
   ]
  },
  {
   "cell_type": "code",
   "execution_count": 7,
   "id": "177b6da2-350c-4280-bbe6-12da765446f5",
   "metadata": {},
   "outputs": [
    {
     "name": "stdout",
     "output_type": "stream",
     "text": [
      "<class 'pandas.core.frame.DataFrame'>\n",
      "RangeIndex: 1338 entries, 0 to 1337\n",
      "Data columns (total 7 columns):\n",
      " #   Column    Non-Null Count  Dtype  \n",
      "---  ------    --------------  -----  \n",
      " 0   age       1338 non-null   int64  \n",
      " 1   sex       1338 non-null   object \n",
      " 2   bmi       1338 non-null   float64\n",
      " 3   children  1338 non-null   int64  \n",
      " 4   smoker    1338 non-null   object \n",
      " 5   region    1338 non-null   object \n",
      " 6   charges   1338 non-null   float64\n",
      "dtypes: float64(2), int64(2), object(3)\n",
      "memory usage: 73.3+ KB\n"
     ]
    }
   ],
   "source": [
    "df.info()"
   ]
  },
  {
   "cell_type": "code",
   "execution_count": 8,
   "id": "1c14fc1b-4a80-4cc1-94db-deb8ec91692b",
   "metadata": {},
   "outputs": [
    {
     "data": {
      "text/plain": [
       "age         0\n",
       "sex         0\n",
       "bmi         0\n",
       "children    0\n",
       "smoker      0\n",
       "region      0\n",
       "charges     0\n",
       "dtype: int64"
      ]
     },
     "execution_count": 8,
     "metadata": {},
     "output_type": "execute_result"
    }
   ],
   "source": [
    "df.isnull().sum()"
   ]
  },
  {
   "cell_type": "code",
   "execution_count": 9,
   "id": "86c65d45-d353-4123-9934-fb165fcac237",
   "metadata": {},
   "outputs": [
    {
     "data": {
      "text/plain": [
       "np.int64(1)"
      ]
     },
     "execution_count": 9,
     "metadata": {},
     "output_type": "execute_result"
    }
   ],
   "source": [
    "df.duplicated().sum()"
   ]
  },
  {
   "cell_type": "code",
   "execution_count": 10,
   "id": "07f387b1-51b5-4a83-b304-a2cac6b1d113",
   "metadata": {},
   "outputs": [],
   "source": [
    "df = df.drop_duplicates()"
   ]
  },
  {
   "cell_type": "code",
   "execution_count": 11,
   "id": "618aa1b8-1a8f-4e0a-8555-34c7126221bc",
   "metadata": {},
   "outputs": [
    {
     "data": {
      "text/plain": [
       "region\n",
       "southeast    364\n",
       "southwest    325\n",
       "northwest    324\n",
       "northeast    324\n",
       "Name: count, dtype: int64"
      ]
     },
     "execution_count": 11,
     "metadata": {},
     "output_type": "execute_result"
    }
   ],
   "source": [
    "df['region'].value_counts()"
   ]
  },
  {
   "cell_type": "code",
   "execution_count": 12,
   "id": "6dad6f4e-9f9f-45bd-a44d-2e877474ed8d",
   "metadata": {},
   "outputs": [
    {
     "data": {
      "text/html": [
       "<div>\n",
       "<style scoped>\n",
       "    .dataframe tbody tr th:only-of-type {\n",
       "        vertical-align: middle;\n",
       "    }\n",
       "\n",
       "    .dataframe tbody tr th {\n",
       "        vertical-align: top;\n",
       "    }\n",
       "\n",
       "    .dataframe thead th {\n",
       "        text-align: right;\n",
       "    }\n",
       "</style>\n",
       "<table border=\"1\" class=\"dataframe\">\n",
       "  <thead>\n",
       "    <tr style=\"text-align: right;\">\n",
       "      <th></th>\n",
       "      <th>age</th>\n",
       "      <th>bmi</th>\n",
       "      <th>children</th>\n",
       "      <th>charges</th>\n",
       "    </tr>\n",
       "  </thead>\n",
       "  <tbody>\n",
       "    <tr>\n",
       "      <th>count</th>\n",
       "      <td>1337.000000</td>\n",
       "      <td>1337.000000</td>\n",
       "      <td>1337.000000</td>\n",
       "      <td>1337.000000</td>\n",
       "    </tr>\n",
       "    <tr>\n",
       "      <th>mean</th>\n",
       "      <td>39.222139</td>\n",
       "      <td>30.663452</td>\n",
       "      <td>1.095737</td>\n",
       "      <td>13279.121487</td>\n",
       "    </tr>\n",
       "    <tr>\n",
       "      <th>std</th>\n",
       "      <td>14.044333</td>\n",
       "      <td>6.100468</td>\n",
       "      <td>1.205571</td>\n",
       "      <td>12110.359656</td>\n",
       "    </tr>\n",
       "    <tr>\n",
       "      <th>min</th>\n",
       "      <td>18.000000</td>\n",
       "      <td>15.960000</td>\n",
       "      <td>0.000000</td>\n",
       "      <td>1121.873900</td>\n",
       "    </tr>\n",
       "    <tr>\n",
       "      <th>25%</th>\n",
       "      <td>27.000000</td>\n",
       "      <td>26.290000</td>\n",
       "      <td>0.000000</td>\n",
       "      <td>4746.344000</td>\n",
       "    </tr>\n",
       "    <tr>\n",
       "      <th>50%</th>\n",
       "      <td>39.000000</td>\n",
       "      <td>30.400000</td>\n",
       "      <td>1.000000</td>\n",
       "      <td>9386.161300</td>\n",
       "    </tr>\n",
       "    <tr>\n",
       "      <th>75%</th>\n",
       "      <td>51.000000</td>\n",
       "      <td>34.700000</td>\n",
       "      <td>2.000000</td>\n",
       "      <td>16657.717450</td>\n",
       "    </tr>\n",
       "    <tr>\n",
       "      <th>max</th>\n",
       "      <td>64.000000</td>\n",
       "      <td>53.130000</td>\n",
       "      <td>5.000000</td>\n",
       "      <td>63770.428010</td>\n",
       "    </tr>\n",
       "  </tbody>\n",
       "</table>\n",
       "</div>"
      ],
      "text/plain": [
       "               age          bmi     children       charges\n",
       "count  1337.000000  1337.000000  1337.000000   1337.000000\n",
       "mean     39.222139    30.663452     1.095737  13279.121487\n",
       "std      14.044333     6.100468     1.205571  12110.359656\n",
       "min      18.000000    15.960000     0.000000   1121.873900\n",
       "25%      27.000000    26.290000     0.000000   4746.344000\n",
       "50%      39.000000    30.400000     1.000000   9386.161300\n",
       "75%      51.000000    34.700000     2.000000  16657.717450\n",
       "max      64.000000    53.130000     5.000000  63770.428010"
      ]
     },
     "execution_count": 12,
     "metadata": {},
     "output_type": "execute_result"
    }
   ],
   "source": [
    "df.describe()"
   ]
  },
  {
   "cell_type": "code",
   "execution_count": 13,
   "id": "c6306e46-099d-4f5a-8da2-b11acdc40711",
   "metadata": {},
   "outputs": [
    {
     "data": {
      "image/png": "[encoded data removed]",
      "text/plain": [
       "<Figure size 600x400 with 1 Axes>"
      ]
     },
     "metadata": {},
     "output_type": "display_data"
    }
   ],
   "source": [
    "plt.figure(figsize=(6,4))\n",
    "plt.title('Распределение целевого признака - charges')\n",
    "sns.histplot(df['charges'], kde=True)\n",
    "plt.xlabel('Расходы')\n",
    "plt.ylabel('Количество')\n",
    "plt.show()"
   ]
  },
  {
   "cell_type": "code",
   "execution_count": 14,
   "id": "4f8ecf60-6c38-4af2-b558-a0440fae6843",
   "metadata": {},
   "outputs": [
    {
     "data": {
      "image/png": "[encoded data removed]",
      "text/plain": [
       "<Figure size 600x400 with 1 Axes>"
      ]
     },
     "metadata": {},
     "output_type": "display_data"
    }
   ],
   "source": [
    "plt.figure(figsize=(6,4))\n",
    "plt.title('Распределение возраста')\n",
    "sns.histplot(df['age'], kde=True)\n",
    "plt.xlabel('Возраст')\n",
    "plt.ylabel('Количество')\n",
    "plt.show()"
   ]
  },
  {
   "cell_type": "code",
   "execution_count": 15,
   "id": "14a987b5-ed45-4c40-8b61-dc2329d58773",
   "metadata": {},
   "outputs": [
    {
     "data": {
      "image/png": "[encoded data removed]",
      "text/plain": [
       "<Figure size 600x400 with 1 Axes>"
      ]
     },
     "metadata": {},
     "output_type": "display_data"
    }
   ],
   "source": [
    "plt.figure(figsize=(6,4))\n",
    "sns.countplot(x='sex', data=df, hue='sex', palette='Set1')\n",
    "plt.title('Распределение пола')\n",
    "plt.xlabel('Пол')\n",
    "plt.ylabel('Количество')\n",
    "plt.show()"
   ]
  },
  {
   "cell_type": "code",
   "execution_count": 16,
   "id": "fc3902e7-0163-4576-bb9b-35fce04e8228",
   "metadata": {},
   "outputs": [
    {
     "data": {
      "image/png": "[encoded data removed]",
      "text/plain": [
       "<Figure size 600x400 with 1 Axes>"
      ]
     },
     "metadata": {},
     "output_type": "display_data"
    }
   ],
   "source": [
    "plt.figure(figsize=(6,4))\n",
    "sns.histplot(df['bmi'], kde=True)\n",
    "plt.title('Распределение индекса  массы тела')\n",
    "plt.xlabel('Индекс массы тела')\n",
    "plt.ylabel('Количество')\n",
    "plt.show()"
   ]
  },
  {
   "cell_type": "code",
   "execution_count": 17,
   "id": "3d337bb6-acef-4414-bc91-9573d6bd03ee",
   "metadata": {},
   "outputs": [
    {
     "data": {
      "image/png": "[encoded data removed]",
      "text/plain": [
       "<Figure size 600x400 with 1 Axes>"
      ]
     },
     "metadata": {},
     "output_type": "display_data"
    }
   ],
   "source": [
    "plt.figure(figsize=(6,4))\n",
    "sns.histplot(df['children'])\n",
    "plt.title('Распределение количества детей')\n",
    "plt.xlabel('Количество детей')\n",
    "plt.ylabel('Количество объектов')\n",
    "plt.show()"
   ]
  },
  {
   "cell_type": "code",
   "execution_count": 18,
   "id": "711de37f-d5b9-4976-ba13-1d17ead7ee81",
   "metadata": {},
   "outputs": [
    {
     "data": {
      "image/png": "[encoded data removed]",
      "text/plain": [
       "<Figure size 600x400 with 1 Axes>"
      ]
     },
     "metadata": {},
     "output_type": "display_data"
    }
   ],
   "source": [
    "plt.figure(figsize=(6,4))\n",
    "sns.histplot(df['region'])\n",
    "plt.title('Распределение региона')\n",
    "plt.xlabel('Регион')\n",
    "plt.ylabel('Количество')\n",
    "plt.show()"
   ]
  },
  {
   "cell_type": "code",
   "execution_count": 19,
   "id": "e6f0d49c-8efe-42a4-a6c1-437af0fb3e40",
   "metadata": {},
   "outputs": [
    {
     "data": {
      "image/png": "[encoded data removed]",
      "text/plain": [
       "<Figure size 1088x816 with 2 Axes>"
      ]
     },
     "metadata": {},
     "output_type": "display_data"
    }
   ],
   "source": [
    "corr = df.select_dtypes(include=np.number).corr()\n",
    "plt.figure(dpi=170)\n",
    "sns.heatmap(corr, annot=True, annot_kws={'size':4}, cmap='coolwarm')\n",
    "plt.show()"
   ]
  },
  {
   "cell_type": "code",
   "execution_count": 20,
   "id": "20d82bfb-aed3-4464-9f85-f8a1ceacc158",
   "metadata": {},
   "outputs": [],
   "source": [
    "X = df.drop(columns=['charges'])\n",
    "y_log = np.log1p(df['charges'])"
   ]
  },
  {
   "cell_type": "code",
   "execution_count": 21,
   "id": "6eb493a0-5b2e-46b9-aa54-b5c0919b37f9",
   "metadata": {},
   "outputs": [
    {
     "name": "stdout",
     "output_type": "stream",
     "text": [
      "<class 'pandas.core.frame.DataFrame'>\n",
      "Index: 1337 entries, 0 to 1337\n",
      "Data columns (total 7 columns):\n",
      " #   Column    Non-Null Count  Dtype  \n",
      "---  ------    --------------  -----  \n",
      " 0   age       1337 non-null   int64  \n",
      " 1   sex       1337 non-null   object \n",
      " 2   bmi       1337 non-null   float64\n",
      " 3   children  1337 non-null   int64  \n",
      " 4   smoker    1337 non-null   object \n",
      " 5   region    1337 non-null   object \n",
      " 6   charges   1337 non-null   float64\n",
      "dtypes: float64(2), int64(2), object(3)\n",
      "memory usage: 83.6+ KB\n"
     ]
    }
   ],
   "source": [
    "df.info()"
   ]
  },
  {
   "cell_type": "code",
   "execution_count": 22,
   "id": "8697096e-7604-4de3-927f-0db64d8ed818",
   "metadata": {},
   "outputs": [
    {
     "data": {
      "text/plain": [
       "Index(['age', 'bmi', 'children'], dtype='object')"
      ]
     },
     "execution_count": 22,
     "metadata": {},
     "output_type": "execute_result"
    }
   ],
   "source": [
    "numeric_features = X.select_dtypes(include=['int64', 'float64']).columns\n",
    "numeric_features"
   ]
  },
  {
   "cell_type": "code",
   "execution_count": 23,
   "id": "a33790f5-ce8c-4b54-aef1-baa9e3c2cd42",
   "metadata": {},
   "outputs": [
    {
     "data": {
      "text/plain": [
       "Index(['sex', 'smoker', 'region'], dtype='object')"
      ]
     },
     "execution_count": 23,
     "metadata": {},
     "output_type": "execute_result"
    }
   ],
   "source": [
    "categorical_features = X.select_dtypes(include=['object', 'category']).columns\n",
    "categorical_features"
   ]
  },
  {
   "cell_type": "code",
   "execution_count": 24,
   "id": "20ee18d0-61f2-4b17-b44e-70ba2f8dcc89",
   "metadata": {},
   "outputs": [
    {
     "data": {
      "text/plain": [
       "sex       2\n",
       "smoker    2\n",
       "region    4\n",
       "dtype: int64"
      ]
     },
     "execution_count": 24,
     "metadata": {},
     "output_type": "execute_result"
    }
   ],
   "source": [
    "X[categorical_features].nunique()"
   ]
  },
  {
   "cell_type": "code",
   "execution_count": 25,
   "id": "e225b5ae-ecd5-43e9-ae5b-41634789f762",
   "metadata": {},
   "outputs": [],
   "source": [
    "preprocessor = ColumnTransformer([\n",
    "    ('num', Pipeline([\n",
    "        ('imputer', SimpleImputer(strategy='median')),\n",
    "        ('scaler', StandardScaler())\n",
    "    ]), numeric_features),\n",
    "    ('cat', Pipeline([\n",
    "        ('imputer', SimpleImputer(strategy='most_frequent')),\n",
    "        ('encoder', OneHotEncoder(handle_unknown='ignore'))\n",
    "    ]), categorical_features)\n",
    "])"
   ]
  },
  {
   "cell_type": "code",
   "execution_count": 26,
   "id": "5324ac40-44e9-408c-8cc7-1d300052864b",
   "metadata": {},
   "outputs": [],
   "source": [
    "X_train, X_test, y_train, y_test = train_test_split(X, y_log, test_size=0.2, random_state=42)\n",
    "preprocessed_X_train = preprocessor.fit_transform(X_train)\n",
    "preprocessed_X_test = preprocessor.transform(X_test)"
   ]
  },
  {
   "cell_type": "code",
   "execution_count": 27,
   "id": "047b0566-a8bc-440f-aae9-b393569bf53f",
   "metadata": {},
   "outputs": [
    {
     "data": {
      "text/plain": [
       "array(['num__age', 'num__bmi', 'num__children', 'cat__sex_female',\n",
       "       'cat__sex_male', 'cat__smoker_no', 'cat__smoker_yes',\n",
       "       'cat__region_northeast', 'cat__region_northwest',\n",
       "       'cat__region_southeast', 'cat__region_southwest'], dtype=object)"
      ]
     },
     "execution_count": 27,
     "metadata": {},
     "output_type": "execute_result"
    }
   ],
   "source": [
    "features_name = preprocessor.get_feature_names_out()\n",
    "features_name"
   ]
  },
  {
   "cell_type": "code",
   "execution_count": 28,
   "id": "8882751e-6be8-4665-be79-e3d6035ef84b",
   "metadata": {},
   "outputs": [
    {
     "data": {
      "text/plain": [
       "11"
      ]
     },
     "execution_count": 28,
     "metadata": {},
     "output_type": "execute_result"
    }
   ],
   "source": [
    "len(features_name)"
   ]
  },
  {
   "cell_type": "markdown",
   "id": "30a357a3-3fc3-479e-af37-1d7d0e21b915",
   "metadata": {
    "jp-MarkdownHeadingCollapsed": true
   },
   "source": [
    "## Линейная регрессия"
   ]
  },
  {
   "cell_type": "code",
   "execution_count": 29,
   "id": "ee2bdeed-7e30-496c-b996-aee94215eae0",
   "metadata": {},
   "outputs": [],
   "source": [
    "linear_model = LinearRegression()\n",
    "linear_model.fit(preprocessed_X_train, y_train)\n",
    "\n",
    "y_linear_pred = linear_model.predict(preprocessed_X_test)"
   ]
  },
  {
   "cell_type": "code",
   "execution_count": 97,
   "id": "5832fc0d-2951-44aa-8fde-c63869710081",
   "metadata": {},
   "outputs": [],
   "source": [
    "y_linear_pred_real = np.expm1(y_linear_pred)\n",
    "y_test_real = np.expm1(y_test)\n",
    "y_train_real = np.expm1(y_train)"
   ]
  },
  {
   "cell_type": "code",
   "execution_count": 31,
   "id": "a3f7a8a9-1207-46d0-b0b3-007c2d1fc206",
   "metadata": {},
   "outputs": [],
   "source": [
    "linear_test_mse = mean_squared_error(y_test_real, y_linear_pred_real)\n",
    "linear_test_mae = mean_absolute_error(y_test_real, y_linear_pred_real)\n",
    "linear_test_r2 = r2_score(y_test_real, y_linear_pred_real)"
   ]
  },
  {
   "cell_type": "code",
   "execution_count": 32,
   "id": "a9422a0f-d540-44a1-8c1c-a3e1a538d45d",
   "metadata": {},
   "outputs": [
    {
     "data": {
      "text/plain": [
       "51797278.35154593"
      ]
     },
     "execution_count": 32,
     "metadata": {},
     "output_type": "execute_result"
    }
   ],
   "source": [
    "linear_test_mse"
   ]
  },
  {
   "cell_type": "code",
   "execution_count": 33,
   "id": "b0dcc9ba-0eba-4d13-a1f7-72f2e49bcec3",
   "metadata": {},
   "outputs": [
    {
     "data": {
      "text/plain": [
       "3755.924575909673"
      ]
     },
     "execution_count": 33,
     "metadata": {},
     "output_type": "execute_result"
    }
   ],
   "source": [
    "linear_test_mae"
   ]
  },
  {
   "cell_type": "code",
   "execution_count": 34,
   "id": "19d808ae-c403-410a-94c1-2e867fef17cd",
   "metadata": {},
   "outputs": [
    {
     "data": {
      "text/plain": [
       "0.7181193522954387"
      ]
     },
     "execution_count": 34,
     "metadata": {},
     "output_type": "execute_result"
    }
   ],
   "source": [
    "linear_test_r2"
   ]
  },
  {
   "cell_type": "markdown",
   "id": "3a8cda5a-ed0b-4052-ac45-8b0f25073fed",
   "metadata": {
    "jp-MarkdownHeadingCollapsed": true
   },
   "source": [
    "## Метод опорных векторов"
   ]
  },
  {
   "cell_type": "code",
   "execution_count": 35,
   "id": "5140614e-d235-4cc3-8795-8fd25bbd73a2",
   "metadata": {},
   "outputs": [],
   "source": [
    "svr_model = SVR(kernel='poly', C=500.0, epsilon=1.0)\n",
    "svr_model.fit(preprocessed_X_train, y_train)\n",
    "\n",
    "y_svr_pred = svr_model.predict(preprocessed_X_test)"
   ]
  },
  {
   "cell_type": "code",
   "execution_count": 36,
   "id": "8fa567f8-5f15-4a2a-9537-c5c742f01c09",
   "metadata": {},
   "outputs": [],
   "source": [
    "y_svr_pred_real = np.expm1(y_svr_pred)"
   ]
  },
  {
   "cell_type": "code",
   "execution_count": 37,
   "id": "88bdf8c0-11e0-4da1-89ab-3149ad9e2bba",
   "metadata": {},
   "outputs": [],
   "source": [
    "svr_test_mse = mean_squared_error(y_test_real, y_svr_pred_real)\n",
    "svr_test_mae = mean_absolute_error(y_test_real, y_svr_pred_real)\n",
    "svr_test_r2 = r2_score(y_test_real, y_svr_pred_real)"
   ]
  },
  {
   "cell_type": "code",
   "execution_count": 38,
   "id": "52ae9548-0144-4e8c-9ae9-c39aa8e4cc60",
   "metadata": {},
   "outputs": [
    {
     "data": {
      "text/plain": [
       "109771226.9896023"
      ]
     },
     "execution_count": 38,
     "metadata": {},
     "output_type": "execute_result"
    }
   ],
   "source": [
    "svr_test_mse"
   ]
  },
  {
   "cell_type": "code",
   "execution_count": 39,
   "id": "a2d052c2-222f-4071-8f10-87184623ea83",
   "metadata": {},
   "outputs": [
    {
     "data": {
      "text/plain": [
       "7343.48971062153"
      ]
     },
     "execution_count": 39,
     "metadata": {},
     "output_type": "execute_result"
    }
   ],
   "source": [
    "svr_test_mae"
   ]
  },
  {
   "cell_type": "code",
   "execution_count": 40,
   "id": "2792699b-cc2f-40a0-9a81-174225488079",
   "metadata": {},
   "outputs": [
    {
     "data": {
      "text/plain": [
       "0.40262528171559764"
      ]
     },
     "execution_count": 40,
     "metadata": {},
     "output_type": "execute_result"
    }
   ],
   "source": [
    "svr_test_r2"
   ]
  },
  {
   "cell_type": "markdown",
   "id": "16401928-04af-4c1d-b2d3-08dc9b7094b8",
   "metadata": {},
   "source": [
    "Оптимизация"
   ]
  },
  {
   "cell_type": "code",
   "execution_count": 41,
   "id": "24e37de9-9b4e-4d5b-bcea-adffceaa5f05",
   "metadata": {},
   "outputs": [],
   "source": [
    "svr_space = {\n",
    "    'C': hp.loguniform('C', np.log(1e-2), np.log(1e3)),\n",
    "    'epsilon': hp.loguniform('eps', np.log(1e-3), np.log(1.0)),\n",
    "    'gamma': hp.loguniform('gamma', np.log(1e-4), np.log(1.0)),\n",
    "}"
   ]
  },
  {
   "cell_type": "code",
   "execution_count": 42,
   "id": "c46a16fe-c911-442b-b3be-ce24483c321f",
   "metadata": {},
   "outputs": [],
   "source": [
    "def objective(params):\n",
    "    svr_model = SVR(kernel='poly',\n",
    "                C=float(params['C']),\n",
    "                epsilon=float(params['epsilon']),\n",
    "                gamma=float(params['gamma']))\n",
    "    \n",
    "    svr_model.fit(preprocessed_X_train, y_train)\n",
    "    \n",
    "    y_svr_pred = svr_model.predict(preprocessed_X_test)\n",
    "    \n",
    "    y_svr_pred_real = np.expm1(y_svr_pred)\n",
    "\n",
    "    rmse = np.sqrt(mean_squared_error(y_test_real, y_svr_pred_real))\n",
    "    return {'loss': rmse, 'status': STATUS_OK}"
   ]
  },
  {
   "cell_type": "code",
   "execution_count": 43,
   "id": "84117d1c-bdbd-4fdc-a2a2-402f51653cd6",
   "metadata": {},
   "outputs": [
    {
     "name": "stdout",
     "output_type": "stream",
     "text": [
      "100%|██████████| 15/15 [00:18<00:00,  1.24s/trial, best loss: 4617.027431520174]\n"
     ]
    },
    {
     "data": {
      "text/plain": [
       "{'C': np.float64(262.80469968662425),\n",
       " 'eps': np.float64(0.07250316961973834),\n",
       " 'gamma': np.float64(0.179730437123319)}"
      ]
     },
     "execution_count": 43,
     "metadata": {},
     "output_type": "execute_result"
    }
   ],
   "source": [
    "trials = Trials()\n",
    "best = fmin(fn=objective, space=svr_space, algo=tpe.suggest,\n",
    "            max_evals=15, trials=trials, rstate=np.random.default_rng(42))\n",
    "best"
   ]
  },
  {
   "cell_type": "code",
   "execution_count": 44,
   "id": "fd91a39d-a00d-479b-a1fa-23fcf671f5a8",
   "metadata": {},
   "outputs": [],
   "source": [
    "svr_best = SVR(kernel=\"rbf\",\n",
    "               C=float(best[\"C\"]),\n",
    "               epsilon=float(best[\"eps\"]),\n",
    "               gamma=float(best[\"gamma\"]))\n",
    "\n",
    "svr_best.fit(preprocessed_X_train, y_train)\n",
    "y_svr_best_pred = svr_best.predict(preprocessed_X_test)"
   ]
  },
  {
   "cell_type": "code",
   "execution_count": 45,
   "id": "0d0bfb96-240f-4d21-92e2-99467c5de827",
   "metadata": {},
   "outputs": [],
   "source": [
    "y_svr_best_pred_real = np.expm1(y_svr_best_pred)\n",
    "\n",
    "svr_best_test_mse = mean_squared_error(y_test_real, y_svr_best_pred_real)\n",
    "svr_best_test_mae = mean_absolute_error(y_test_real, y_svr_best_pred_real)\n",
    "svr_best_test_r2 = r2_score(y_test_real, y_svr_best_pred_real)"
   ]
  },
  {
   "cell_type": "code",
   "execution_count": 46,
   "id": "8c429686-b9e5-461c-9e55-54ca33319a2f",
   "metadata": {},
   "outputs": [
    {
     "data": {
      "text/plain": [
       "46130587.42996253"
      ]
     },
     "execution_count": 46,
     "metadata": {},
     "output_type": "execute_result"
    }
   ],
   "source": [
    "svr_best_test_mse"
   ]
  },
  {
   "cell_type": "code",
   "execution_count": 47,
   "id": "97d4507d-7807-4fd9-b8f6-ddd5a1307d6b",
   "metadata": {},
   "outputs": [
    {
     "data": {
      "text/plain": [
       "3636.59490303023"
      ]
     },
     "execution_count": 47,
     "metadata": {},
     "output_type": "execute_result"
    }
   ],
   "source": [
    "svr_best_test_mae"
   ]
  },
  {
   "cell_type": "code",
   "execution_count": 48,
   "id": "3ce4ca95-96c7-4186-bee4-300d130c3ce9",
   "metadata": {},
   "outputs": [
    {
     "data": {
      "text/plain": [
       "0.7489574688558586"
      ]
     },
     "execution_count": 48,
     "metadata": {},
     "output_type": "execute_result"
    }
   ],
   "source": [
    "svr_best_test_r2"
   ]
  },
  {
   "cell_type": "markdown",
   "id": "ee2ffb06-1e8a-4d8e-84ec-b72d80717136",
   "metadata": {
    "jp-MarkdownHeadingCollapsed": true
   },
   "source": [
    "## Дерево решений"
   ]
  },
  {
   "cell_type": "code",
   "execution_count": 49,
   "id": "27903c30-6bda-4031-9e13-2e60f8a1592b",
   "metadata": {},
   "outputs": [],
   "source": [
    "dt = DecisionTreeRegressor(random_state=42, max_depth=8, min_samples_leaf=10, min_samples_split=20)\n",
    "dt.fit(preprocessed_X_train, y_train)\n",
    "\n",
    "y_dt_pred = dt.predict(preprocessed_X_test)"
   ]
  },
  {
   "cell_type": "code",
   "execution_count": 50,
   "id": "073f82c2-f053-4b2a-8714-92be71e06d13",
   "metadata": {},
   "outputs": [],
   "source": [
    "y_dt_pred_real = np.expm1(y_dt_pred)\n",
    "\n",
    "dt_test_mse = mean_squared_error(y_test_real, y_dt_pred_real)\n",
    "dt_test_mae = mean_absolute_error(y_test_real, y_dt_pred_real)\n",
    "dt_test_r2 = r2_score(y_test_real, y_dt_pred_real)"
   ]
  },
  {
   "cell_type": "code",
   "execution_count": 51,
   "id": "609a1f20-63c1-469b-898c-2bddddee6b65",
   "metadata": {},
   "outputs": [
    {
     "data": {
      "text/plain": [
       "18074571.30434407"
      ]
     },
     "execution_count": 51,
     "metadata": {},
     "output_type": "execute_result"
    }
   ],
   "source": [
    "dt_test_mse"
   ]
  },
  {
   "cell_type": "code",
   "execution_count": 52,
   "id": "9e5772e3-53e8-4bc9-9827-89a695921cb6",
   "metadata": {},
   "outputs": [
    {
     "data": {
      "text/plain": [
       "2129.011506195126"
      ]
     },
     "execution_count": 52,
     "metadata": {},
     "output_type": "execute_result"
    }
   ],
   "source": [
    "dt_test_mae"
   ]
  },
  {
   "cell_type": "code",
   "execution_count": 53,
   "id": "93d0a372-3511-418d-a82c-1c7ba8d73798",
   "metadata": {},
   "outputs": [
    {
     "data": {
      "text/plain": [
       "0.9016382321929715"
      ]
     },
     "execution_count": 53,
     "metadata": {},
     "output_type": "execute_result"
    }
   ],
   "source": [
    "dt_test_r2"
   ]
  },
  {
   "cell_type": "markdown",
   "id": "88c56b47-531c-4a00-8858-332cdf2a73ca",
   "metadata": {},
   "source": [
    "Оптимизация"
   ]
  },
  {
   "cell_type": "code",
   "execution_count": 54,
   "id": "e4a53123-0980-4863-99c6-d36695cfe69a",
   "metadata": {},
   "outputs": [],
   "source": [
    "dt_space = {\n",
    "    \"max_depth\": hp.quniform(\"max_depth\", 3, 30, 1),\n",
    "    \"min_samples_leaf\": hp.qloguniform(\"min_samples_leaf\", np.log(1), np.log(50), 1),\n",
    "    \"min_samples_split\": hp.qloguniform(\"min_samples_split\", np.log(2), np.log(100), 1),\n",
    "}"
   ]
  },
  {
   "cell_type": "code",
   "execution_count": 55,
   "id": "859d7ef3-2128-455b-9965-434943821c42",
   "metadata": {},
   "outputs": [
    {
     "name": "stdout",
     "output_type": "stream",
     "text": [
      "100%|██████████| 60/60 [00:00<00:00, 93.05trial/s, best loss: 4251.419916256693] \n"
     ]
    },
    {
     "data": {
      "text/plain": [
       "{'max_depth': np.float64(27.0),\n",
       " 'min_samples_leaf': np.float64(11.0),\n",
       " 'min_samples_split': np.float64(48.0)}"
      ]
     },
     "execution_count": 55,
     "metadata": {},
     "output_type": "execute_result"
    }
   ],
   "source": [
    "def objective(params):\n",
    "    dt_model = DecisionTreeRegressor(\n",
    "        random_state=42,\n",
    "        max_depth=int(params[\"max_depth\"]),\n",
    "        min_samples_leaf=int(params[\"min_samples_leaf\"]),\n",
    "        min_samples_split=int(params[\"min_samples_split\"])\n",
    "    )\n",
    "    dt_model.fit(preprocessed_X_train, y_train)\n",
    "\n",
    "    y_dt_pred = dt.predict(preprocessed_X_test)\n",
    "    \n",
    "    y_dt_pred_real = np.expm1(y_dt_pred)\n",
    "    \n",
    "    rmse = np.sqrt(mean_squared_error(y_test_real, y_dt_pred_real))\n",
    "    return {\"loss\": rmse, \"status\": STATUS_OK}\n",
    "\n",
    "trials = Trials()\n",
    "best = fmin(fn=objective, space=dt_space, algo=tpe.suggest,\n",
    "            max_evals=60, trials=trials, rstate=np.random.default_rng(42))\n",
    "best"
   ]
  },
  {
   "cell_type": "code",
   "execution_count": 56,
   "id": "cbd436fc-9520-4f35-afb1-648001e4cda4",
   "metadata": {},
   "outputs": [],
   "source": [
    "dt_best_model = DecisionTreeRegressor(\n",
    "        random_state=42,\n",
    "        max_depth=int(best[\"max_depth\"]),\n",
    "        min_samples_leaf=int(best[\"min_samples_leaf\"]),\n",
    "        min_samples_split=int(best[\"min_samples_split\"])\n",
    "    )\n",
    "\n",
    "dt_best_model.fit(preprocessed_X_train, y_train)\n",
    "\n",
    "y_dt_best_pred = dt_best_model.predict(preprocessed_X_test)\n",
    "    \n",
    "y_dt_best_pred_real = np.expm1(y_dt_best_pred)"
   ]
  },
  {
   "cell_type": "code",
   "execution_count": 57,
   "id": "3702b5b9-b038-4035-8683-345b4e29d840",
   "metadata": {},
   "outputs": [],
   "source": [
    "dt_best_test_mse = mean_squared_error(y_test_real, y_dt_best_pred_real)\n",
    "dt_best_test_mae = mean_absolute_error(y_test_real, y_dt_best_pred_real)\n",
    "dt_best_test_r2 = r2_score(y_test_real, y_dt_best_pred_real)"
   ]
  },
  {
   "cell_type": "code",
   "execution_count": 58,
   "id": "028e45bf-d320-49ac-9292-d92674752d21",
   "metadata": {},
   "outputs": [
    {
     "data": {
      "text/plain": [
       "18435424.608086236"
      ]
     },
     "execution_count": 58,
     "metadata": {},
     "output_type": "execute_result"
    }
   ],
   "source": [
    "dt_best_test_mse"
   ]
  },
  {
   "cell_type": "code",
   "execution_count": 59,
   "id": "091ef101-9ebb-4568-a213-dcebda31a2fc",
   "metadata": {},
   "outputs": [
    {
     "data": {
      "text/plain": [
       "2270.9376961357425"
      ]
     },
     "execution_count": 59,
     "metadata": {},
     "output_type": "execute_result"
    }
   ],
   "source": [
    "dt_best_test_mae"
   ]
  },
  {
   "cell_type": "code",
   "execution_count": 60,
   "id": "cf6b071c-ef2f-4018-b9b2-d50ed2c31baf",
   "metadata": {},
   "outputs": [
    {
     "data": {
      "text/plain": [
       "0.8996744694968928"
      ]
     },
     "execution_count": 60,
     "metadata": {},
     "output_type": "execute_result"
    }
   ],
   "source": [
    "dt_best_test_r2"
   ]
  },
  {
   "cell_type": "markdown",
   "id": "6e7c7fa9-b0bb-4c9e-b0ee-eaebb806673d",
   "metadata": {},
   "source": [
    "#### Random Forest"
   ]
  },
  {
   "cell_type": "code",
   "execution_count": 80,
   "id": "5ae536d6-9d7c-4dc2-bd7a-c1885928bb59",
   "metadata": {},
   "outputs": [],
   "source": [
    "rf_model = RandomForestRegressor(n_estimators=600, random_state=42)\n",
    "rf_model.fit(preprocessed_X_train, y_train)\n",
    "\n",
    "y_rf_pred = rf_model.predict(preprocessed_X_test)"
   ]
  },
  {
   "cell_type": "code",
   "execution_count": 81,
   "id": "037e2faa-2b1c-4474-986d-0a2e678618e7",
   "metadata": {},
   "outputs": [],
   "source": [
    "y_rf_pred_real = np.expm1(y_rf_pred)\n",
    "\n",
    "rf_test_mse = mean_squared_error(y_test_real, y_rf_pred_real)\n",
    "rf_test_mae = mean_absolute_error(y_test_real, y_rf_pred_real)\n",
    "rf_test_r2 = r2_score(y_test_real, y_rf_pred_real)"
   ]
  },
  {
   "cell_type": "code",
   "execution_count": 82,
   "id": "4d6a95db-9e76-4d45-a854-e7da6c331efa",
   "metadata": {},
   "outputs": [
    {
     "data": {
      "text/plain": [
       "18940671.751110155"
      ]
     },
     "execution_count": 82,
     "metadata": {},
     "output_type": "execute_result"
    }
   ],
   "source": [
    "rf_test_mse"
   ]
  },
  {
   "cell_type": "code",
   "execution_count": 83,
   "id": "953dd697-f47d-427c-b9ce-82c006760af9",
   "metadata": {},
   "outputs": [
    {
     "data": {
      "text/plain": [
       "2042.2989380999134"
      ]
     },
     "execution_count": 83,
     "metadata": {},
     "output_type": "execute_result"
    }
   ],
   "source": [
    "rf_test_mae"
   ]
  },
  {
   "cell_type": "code",
   "execution_count": 84,
   "id": "6c79e58a-7c27-450d-8102-069a328e04e1",
   "metadata": {},
   "outputs": [
    {
     "data": {
      "text/plain": [
       "0.8969249159207402"
      ]
     },
     "execution_count": 84,
     "metadata": {},
     "output_type": "execute_result"
    }
   ],
   "source": [
    "rf_test_r2"
   ]
  },
  {
   "cell_type": "markdown",
   "id": "faf84dbf-cd3a-4aae-a765-199be251df5c",
   "metadata": {},
   "source": [
    "Train:"
   ]
  },
  {
   "cell_type": "code",
   "execution_count": 98,
   "id": "dc1d07b1-0f47-4b0c-b129-1bdcde9e6877",
   "metadata": {},
   "outputs": [],
   "source": [
    "y_rf_train_pred = rf_model.predict(preprocessed_X_train)\n",
    "\n",
    "y_rf_train_pred_real = np.expm1(y_rf_train_pred)\n",
    "\n",
    "rf_train_mse = mean_squared_error(y_train_real, y_rf_train_pred_real)\n",
    "rf_train_mae = mean_absolute_error(y_train_real, y_rf_train_pred_real)\n",
    "rf_train_r2 = r2_score(y_train_real, y_rf_train_pred_real)"
   ]
  },
  {
   "cell_type": "code",
   "execution_count": 99,
   "id": "f3b16cb3-bef2-48f2-a2c0-6d2bb16ae0ec",
   "metadata": {},
   "outputs": [
    {
     "data": {
      "text/plain": [
       "5364525.583608879"
      ]
     },
     "execution_count": 99,
     "metadata": {},
     "output_type": "execute_result"
    }
   ],
   "source": [
    "rf_train_mse"
   ]
  },
  {
   "cell_type": "code",
   "execution_count": 100,
   "id": "da2efcf5-d988-40e5-889b-8bdc7881c384",
   "metadata": {},
   "outputs": [
    {
     "data": {
      "text/plain": [
       "953.9300374740304"
      ]
     },
     "execution_count": 100,
     "metadata": {},
     "output_type": "execute_result"
    }
   ],
   "source": [
    "rf_train_mae"
   ]
  },
  {
   "cell_type": "code",
   "execution_count": 101,
   "id": "2748f560-8059-4b5c-861f-3c85233a0507",
   "metadata": {},
   "outputs": [
    {
     "data": {
      "text/plain": [
       "0.9608184749018448"
      ]
     },
     "execution_count": 101,
     "metadata": {},
     "output_type": "execute_result"
    }
   ],
   "source": [
    "rf_train_r2"
   ]
  },
  {
   "cell_type": "markdown",
   "id": "1a2dc812-5aea-479a-87a5-c518cf2265a9",
   "metadata": {},
   "source": [
    "Оптимизация"
   ]
  },
  {
   "cell_type": "code",
   "execution_count": 88,
   "id": "e7188baa-0bbc-4db8-90c2-6764a30fe745",
   "metadata": {},
   "outputs": [],
   "source": [
    "rf_space = {\n",
    "    \"n_estimators\": hp.quniform(\"n_estimators\", 200, 800, 50),\n",
    "    \"max_depth\": hp.choice(\"max_depth\", [None, 6, 8, 10, 12, 16, 20]),\n",
    "    \"min_samples_split\": hp.qloguniform(\"min_samples_split\", np.log(2), np.log(100), 1),\n",
    "    \"min_samples_leaf\": hp.qloguniform(\"min_samples_leaf\",  np.log(1), np.log(50),  1),\n",
    "    \"max_features\": hp.choice(\"max_features\", [\"sqrt\", \"log2\", 0.3, 0.5, 0.7]),\n",
    "}"
   ]
  },
  {
   "cell_type": "code",
   "execution_count": 89,
   "id": "1113dfe4-2c99-4b65-bd49-6a4416d56b5b",
   "metadata": {},
   "outputs": [
    {
     "name": "stdout",
     "output_type": "stream",
     "text": [
      "100%|██████████| 40/40 [00:44<00:00,  1.12s/trial, best loss: 4230.801087830308]\n"
     ]
    },
    {
     "data": {
      "text/plain": [
       "{'max_depth': np.int64(5),\n",
       " 'max_features': np.int64(4),\n",
       " 'min_samples_leaf': np.float64(5.0),\n",
       " 'min_samples_split': np.float64(6.0),\n",
       " 'n_estimators': np.float64(450.0)}"
      ]
     },
     "execution_count": 89,
     "metadata": {},
     "output_type": "execute_result"
    }
   ],
   "source": [
    "def objective(params):\n",
    "    rf_model = RandomForestRegressor(\n",
    "        n_estimators=int(params[\"n_estimators\"]),\n",
    "        max_depth=params[\"max_depth\"],\n",
    "        min_samples_split=int(params[\"min_samples_split\"]),\n",
    "        min_samples_leaf=int(params[\"min_samples_leaf\"]),\n",
    "        max_features=params[\"max_features\"],\n",
    "        n_jobs=-1,\n",
    "        random_state=42\n",
    "    )\n",
    "    \n",
    "    rf_model.fit(preprocessed_X_train, y_train)\n",
    "    y_rf_pred_log = rf_model.predict(preprocessed_X_test)\n",
    "\n",
    "    y_rf_pred = np.expm1(y_rf_pred_log)\n",
    "\n",
    "    rmse = np.sqrt(mean_squared_error(y_test_real, y_rf_pred))\n",
    "    return {\"loss\": rmse, \"status\": STATUS_OK}\n",
    "\n",
    "trials = Trials()\n",
    "best = fmin(fn=objective, space=rf_space, algo=tpe.suggest,\n",
    "            max_evals=40, trials=trials, rstate=np.random.default_rng(42))\n",
    "\n",
    "best"
   ]
  },
  {
   "cell_type": "code",
   "execution_count": 91,
   "id": "a04e6275-5afd-43e6-8ecc-3ad9e9b8f3f1",
   "metadata": {},
   "outputs": [],
   "source": [
    "rf_best_model = RandomForestRegressor(\n",
    "        n_estimators=int(best[\"n_estimators\"]),\n",
    "        max_depth=best[\"max_depth\"],\n",
    "        min_samples_split=int(best[\"min_samples_split\"]),\n",
    "        min_samples_leaf=int(best[\"min_samples_leaf\"]),\n",
    "        max_features=best[\"max_features\"],\n",
    "        n_jobs=-1,\n",
    "        random_state=42\n",
    "    )\n",
    "\n",
    "rf_best_model.fit(preprocessed_X_train, y_train)\n",
    "\n",
    "y_rf_best_pred = rf_best_model.predict(preprocessed_X_test)\n",
    "    \n",
    "y_rf_best_pred_real = np.expm1(y_rf_best_pred)"
   ]
  },
  {
   "cell_type": "code",
   "execution_count": 92,
   "id": "94915fc0-1901-4175-9fdf-9810d370659d",
   "metadata": {},
   "outputs": [],
   "source": [
    "rf_best_test_mse = mean_squared_error(y_test_real, y_rf_best_pred_real)\n",
    "rf_best_test_mae = mean_absolute_error(y_test_real, y_rf_best_pred_real)\n",
    "rf_best_test_r2 = r2_score(y_test_real, y_rf_best_pred_real)"
   ]
  },
  {
   "cell_type": "code",
   "execution_count": 93,
   "id": "c7096839-0903-4a11-b22c-e3bb856fb601",
   "metadata": {},
   "outputs": [
    {
     "data": {
      "text/plain": [
       "23754553.689347196"
      ]
     },
     "execution_count": 93,
     "metadata": {},
     "output_type": "execute_result"
    }
   ],
   "source": [
    "rf_best_test_mse"
   ]
  },
  {
   "cell_type": "code",
   "execution_count": 94,
   "id": "39d93103-6f2c-41c4-a039-7b2371b1186e",
   "metadata": {},
   "outputs": [
    {
     "data": {
      "text/plain": [
       "2635.0018149934344"
      ]
     },
     "execution_count": 94,
     "metadata": {},
     "output_type": "execute_result"
    }
   ],
   "source": [
    "rf_best_test_mae"
   ]
  },
  {
   "cell_type": "code",
   "execution_count": 95,
   "id": "feeaa245-7ae2-4f20-95e7-5ed1e00f5f50",
   "metadata": {},
   "outputs": [
    {
     "data": {
      "text/plain": [
       "0.8707277835248246"
      ]
     },
     "execution_count": 95,
     "metadata": {},
     "output_type": "execute_result"
    }
   ],
   "source": [
    "rf_best_test_r2"
   ]
  },
  {
   "cell_type": "markdown",
   "id": "bb4c5d2b-8084-43a1-80c1-a798210954cb",
   "metadata": {},
   "source": [
    "Train:"
   ]
  },
  {
   "cell_type": "code",
   "execution_count": 102,
   "id": "fb743778-1423-4c76-8732-cfc8a97c1813",
   "metadata": {},
   "outputs": [],
   "source": [
    "y_rf_train_pred = rf_best_model.predict(preprocessed_X_train)\n",
    "\n",
    "y_rf_train_pred_real = np.expm1(y_rf_train_pred)\n",
    "\n",
    "rf_train_mse = mean_squared_error(y_train_real, y_rf_train_pred_real)\n",
    "rf_train_mae = mean_absolute_error(y_train_real, y_rf_train_pred_real)\n",
    "rf_train_r2 = r2_score(y_train_real, y_rf_train_pred_real)"
   ]
  },
  {
   "cell_type": "code",
   "execution_count": 103,
   "id": "1959d156-820b-44a9-94fe-d2c1bf3e42bf",
   "metadata": {},
   "outputs": [
    {
     "data": {
      "text/plain": [
       "22331368.195711125"
      ]
     },
     "execution_count": 103,
     "metadata": {},
     "output_type": "execute_result"
    }
   ],
   "source": [
    "rf_train_mse"
   ]
  },
  {
   "cell_type": "code",
   "execution_count": 104,
   "id": "c80eea97-2cb0-4ee8-afcb-5b888192dd85",
   "metadata": {},
   "outputs": [
    {
     "data": {
      "text/plain": [
       "2415.295552407183"
      ]
     },
     "execution_count": 104,
     "metadata": {},
     "output_type": "execute_result"
    }
   ],
   "source": [
    "rf_train_mae"
   ]
  },
  {
   "cell_type": "code",
   "execution_count": 105,
   "id": "ac31a3bc-bf2b-401e-a936-2bd2a42b574f",
   "metadata": {},
   "outputs": [
    {
     "data": {
      "text/plain": [
       "0.836895723620023"
      ]
     },
     "execution_count": 105,
     "metadata": {},
     "output_type": "execute_result"
    }
   ],
   "source": [
    "rf_train_r2"
   ]
  },
  {
   "cell_type": "markdown",
   "id": "f53e7f3e-4a02-4dc9-9cfb-0f4e3a8f6073",
   "metadata": {
    "jp-MarkdownHeadingCollapsed": true
   },
   "source": [
    "## GB (Gradient Boosting)"
   ]
  },
  {
   "cell_type": "code",
   "execution_count": 123,
   "id": "8332ad14-079a-40c6-b214-165a6b63b107",
   "metadata": {},
   "outputs": [],
   "source": [
    "from sklearn.ensemble import GradientBoostingRegressor"
   ]
  },
  {
   "cell_type": "code",
   "execution_count": 139,
   "id": "767bfd5f-d9eb-4db2-bedd-e3e557cbad81",
   "metadata": {},
   "outputs": [],
   "source": [
    "gb = GradientBoostingRegressor(\n",
    "    n_estimators=300,\n",
    "    learning_rate=0.1,\n",
    "    max_depth=3,\n",
    "    min_samples_split=10,\n",
    "    min_samples_leaf=5,\n",
    "    random_state=42\n",
    ")\n",
    "\n",
    "gb.fit(preprocessed_X_train, y_train)\n",
    "y_gb_pred = gb.predict(preprocessed_X_test)"
   ]
  },
  {
   "cell_type": "code",
   "execution_count": 140,
   "id": "f6707f88-2584-48c4-876e-9d5321ec9aab",
   "metadata": {},
   "outputs": [],
   "source": [
    "y_gb_pred_real = np.expm1(y_gb_pred)\n",
    "\n",
    "gb_test_mse = mean_squared_error(y_test_real, y_gb_pred_real)\n",
    "gb_test_mae = mean_absolute_error(y_test_real, y_gb_pred_real)\n",
    "gb_test_r2 = r2_score(y_test_real, y_gb_pred_real)"
   ]
  },
  {
   "cell_type": "code",
   "execution_count": 141,
   "id": "af241b51-a375-48ad-a1f6-4326bb64ed82",
   "metadata": {},
   "outputs": [
    {
     "data": {
      "text/plain": [
       "24647311.798852295"
      ]
     },
     "execution_count": 141,
     "metadata": {},
     "output_type": "execute_result"
    }
   ],
   "source": [
    "gb_test_mse"
   ]
  },
  {
   "cell_type": "code",
   "execution_count": 142,
   "id": "77de506d-ce19-4c30-a17c-61c3366ce8a3",
   "metadata": {},
   "outputs": [
    {
     "data": {
      "text/plain": [
       "2627.022071235927"
      ]
     },
     "execution_count": 142,
     "metadata": {},
     "output_type": "execute_result"
    }
   ],
   "source": [
    "gb_test_mae"
   ]
  },
  {
   "cell_type": "code",
   "execution_count": 143,
   "id": "4c7c8869-d052-46b5-b92e-ff27651981a0",
   "metadata": {},
   "outputs": [
    {
     "data": {
      "text/plain": [
       "0.8658693963245773"
      ]
     },
     "execution_count": 143,
     "metadata": {},
     "output_type": "execute_result"
    }
   ],
   "source": [
    "gb_test_r2"
   ]
  },
  {
   "cell_type": "markdown",
   "id": "0d9817d7-714d-4c0c-b780-3bf1801d3cac",
   "metadata": {},
   "source": [
    "Train:"
   ]
  },
  {
   "cell_type": "code",
   "execution_count": 144,
   "id": "de9f6b63-d50c-4254-9190-9c77def4e26b",
   "metadata": {},
   "outputs": [],
   "source": [
    "y_gb_pred = gb.predict(preprocessed_X_train)\n",
    "y_gb_pred_real = np.expm1(y_gb_pred)\n",
    "\n",
    "gb_test_mse = mean_squared_error(y_train_real, y_gb_pred_real)\n",
    "gb_test_mae = mean_absolute_error(y_train_real, y_gb_pred_real)\n",
    "gb_test_r2 = r2_score(y_train_real, y_gb_pred_real)"
   ]
  },
  {
   "cell_type": "code",
   "execution_count": 145,
   "id": "d57b1c55-cb3f-4938-91b8-8d75a176534f",
   "metadata": {},
   "outputs": [
    {
     "data": {
      "text/plain": [
       "16079565.290282322"
      ]
     },
     "execution_count": 145,
     "metadata": {},
     "output_type": "execute_result"
    }
   ],
   "source": [
    "gb_test_mse"
   ]
  },
  {
   "cell_type": "code",
   "execution_count": 146,
   "id": "b830996d-eecf-4a20-bb87-bc9fa3fb843d",
   "metadata": {},
   "outputs": [
    {
     "data": {
      "text/plain": [
       "1881.4162376028942"
      ]
     },
     "execution_count": 146,
     "metadata": {},
     "output_type": "execute_result"
    }
   ],
   "source": [
    "gb_test_mae"
   ]
  },
  {
   "cell_type": "code",
   "execution_count": 147,
   "id": "50c0bdda-9c94-4122-bb9f-7d7a8d8d3910",
   "metadata": {},
   "outputs": [
    {
     "data": {
      "text/plain": [
       "0.8825577618804481"
      ]
     },
     "execution_count": 147,
     "metadata": {},
     "output_type": "execute_result"
    }
   ],
   "source": [
    "gb_test_r2"
   ]
  },
  {
   "cell_type": "markdown",
   "id": "3bf78432-9a01-414a-a13d-79f7f6a0d4d2",
   "metadata": {},
   "source": [
    "Оптимизация:"
   ]
  },
  {
   "cell_type": "code",
   "execution_count": 148,
   "id": "0ff58aa6-3df5-4875-94e4-22a2cd6c4ab7",
   "metadata": {},
   "outputs": [],
   "source": [
    "gb_space = {\n",
    "    \"n_estimators\": hp.quniform(\"n_estimators\", 100, 800, 50),\n",
    "    \"learning_rate\": hp.loguniform(\"learning_rate\", np.log(0.01), np.log(0.2)),\n",
    "    \"max_depth\": hp.quniform(\"max_depth\", 2, 6, 1),\n",
    "    \"min_samples_split\": hp.qloguniform(\"min_samples_split\", np.log(2), np.log(50), 1),\n",
    "    \"min_samples_leaf\": hp.qloguniform(\"min_samples_leaf\", np.log(1), np.log(30), 1)\n",
    "}"
   ]
  },
  {
   "cell_type": "code",
   "execution_count": 149,
   "id": "9b84154e-088f-40ad-98c3-aa876a3d456c",
   "metadata": {},
   "outputs": [
    {
     "name": "stdout",
     "output_type": "stream",
     "text": [
      "100%|██████████| 40/40 [00:25<00:00,  1.58trial/s, best loss: 4226.219588927494]\n"
     ]
    },
    {
     "data": {
      "text/plain": [
       "{'learning_rate': np.float64(0.010660304112871265),\n",
       " 'max_depth': np.float64(4.0),\n",
       " 'min_samples_leaf': np.float64(10.0),\n",
       " 'min_samples_split': np.float64(6.0),\n",
       " 'n_estimators': np.float64(500.0)}"
      ]
     },
     "execution_count": 149,
     "metadata": {},
     "output_type": "execute_result"
    }
   ],
   "source": [
    "def objective(params):\n",
    "    gb_model = GradientBoostingRegressor(\n",
    "        n_estimators=int(params[\"n_estimators\"]),\n",
    "        learning_rate=float(params[\"learning_rate\"]),\n",
    "        max_depth=int(params[\"max_depth\"]),\n",
    "        min_samples_split=int(params[\"min_samples_split\"]),\n",
    "        min_samples_leaf=int(params[\"min_samples_leaf\"]),\n",
    "        random_state=42\n",
    "    )\n",
    "    \n",
    "    gb_model.fit(preprocessed_X_train, y_train)\n",
    "    y_gb_pred_log = gb_model.predict(preprocessed_X_test)\n",
    "\n",
    "    y_gb_pred = np.expm1(y_gb_pred_log)\n",
    "\n",
    "    rmse = np.sqrt(mean_squared_error(y_test_real, y_gb_pred))\n",
    "    return {\"loss\": rmse, \"status\": STATUS_OK}\n",
    "\n",
    "trials = Trials()\n",
    "best = fmin(fn=objective, space=rf_space, algo=tpe.suggest,\n",
    "            max_evals=40, trials=trials, rstate=np.random.default_rng(42))\n",
    "\n",
    "best"
   ]
  },
  {
   "cell_type": "code",
   "execution_count": 150,
   "id": "0af5a372-db33-4062-a00c-2a9766c50dd8",
   "metadata": {},
   "outputs": [],
   "source": [
    "gb_model = GradientBoostingRegressor(\n",
    "        n_estimators=int(best[\"n_estimators\"]),\n",
    "        learning_rate=float(best[\"learning_rate\"]),\n",
    "        max_depth=int(best[\"max_depth\"]),\n",
    "        min_samples_split=int(best[\"min_samples_split\"]),\n",
    "        min_samples_leaf=int(best[\"min_samples_leaf\"]),\n",
    "        random_state=42\n",
    "    )\n",
    "    \n",
    "gb_model.fit(preprocessed_X_train, y_train)\n",
    "y_gb_pred_log = gb_model.predict(preprocessed_X_test)"
   ]
  },
  {
   "cell_type": "code",
   "execution_count": 151,
   "id": "bb8850b3-8bff-44b1-976a-1cf7514a49ae",
   "metadata": {},
   "outputs": [],
   "source": [
    "y_gb_pred_real = np.expm1(y_gb_pred_log)\n",
    "\n",
    "gb_test_mse = mean_squared_error(y_test_real, y_gb_pred_real)\n",
    "gb_test_mae = mean_absolute_error(y_test_real, y_gb_pred_real)\n",
    "gb_test_r2 = r2_score(y_test_real, y_gb_pred_real)"
   ]
  },
  {
   "cell_type": "code",
   "execution_count": 152,
   "id": "738b0637-79dd-4089-83b9-e2e9e7eb9d45",
   "metadata": {},
   "outputs": [
    {
     "data": {
      "text/plain": [
       "17860932.01383448"
      ]
     },
     "execution_count": 152,
     "metadata": {},
     "output_type": "execute_result"
    }
   ],
   "source": [
    "gb_test_mse"
   ]
  },
  {
   "cell_type": "code",
   "execution_count": 153,
   "id": "f7889aee-efc4-4056-8a81-35fe252a25ca",
   "metadata": {},
   "outputs": [
    {
     "data": {
      "text/plain": [
       "1973.2385230254722"
      ]
     },
     "execution_count": 153,
     "metadata": {},
     "output_type": "execute_result"
    }
   ],
   "source": [
    "gb_test_mae"
   ]
  },
  {
   "cell_type": "code",
   "execution_count": 154,
   "id": "f597fe4d-932e-4e3e-b523-bce9c5d82d45",
   "metadata": {},
   "outputs": [
    {
     "data": {
      "text/plain": [
       "0.9028008566300176"
      ]
     },
     "execution_count": 154,
     "metadata": {},
     "output_type": "execute_result"
    }
   ],
   "source": [
    "gb_test_r2"
   ]
  },
  {
   "cell_type": "markdown",
   "id": "c5093203-6a3c-4c98-94c2-64a2f2e6789d",
   "metadata": {},
   "source": [
    "## XGBoost"
   ]
  },
  {
   "cell_type": "code",
   "execution_count": 158,
   "id": "d04960fb-a710-430b-bab9-c73bbb780f86",
   "metadata": {},
   "outputs": [],
   "source": [
    "from xgboost import XGBRegressor"
   ]
  },
  {
   "cell_type": "code",
   "execution_count": 159,
   "id": "fa1f9654-9640-483f-bdc0-9d2bdd2d5688",
   "metadata": {},
   "outputs": [],
   "source": [
    "xgb = XGBRegressor(\n",
    "    n_estimators=600,\n",
    "    learning_rate=0.05,\n",
    "    max_depth=6,\n",
    "    subsample=0.8,\n",
    "    colsample_bytree=0.8,\n",
    "    reg_lambda=1.0,\n",
    "    reg_alpha=0.0,\n",
    "    random_state=42,\n",
    "    n_jobs=-1\n",
    ")\n",
    "\n",
    "xgb.fit(preprocessed_X_train, y_train)\n",
    "y_xgb_pred = xgb.predict(preprocessed_X_test)"
   ]
  },
  {
   "cell_type": "code",
   "execution_count": 160,
   "id": "fc113732-dc20-40b3-a1ff-dfccb5d8ca9b",
   "metadata": {},
   "outputs": [],
   "source": [
    "y_xgb_pred_real = np.expm1(y_xgb_pred)\n",
    "\n",
    "xgb_test_mse = mean_squared_error(y_test_real, y_xgb_pred_real)\n",
    "xgb_test_mae = mean_absolute_error(y_test_real, y_xgb_pred_real)\n",
    "xgb_test_r2 = r2_score(y_test_real, y_xgb_pred_real)"
   ]
  },
  {
   "cell_type": "code",
   "execution_count": 161,
   "id": "c4d1748b-7949-4c82-88f6-095b879feadf",
   "metadata": {},
   "outputs": [
    {
     "data": {
      "text/plain": [
       "39701326.4443683"
      ]
     },
     "execution_count": 161,
     "metadata": {},
     "output_type": "execute_result"
    }
   ],
   "source": [
    "xgb_test_mse"
   ]
  },
  {
   "cell_type": "code",
   "execution_count": 162,
   "id": "edd5a45b-317d-43de-bff4-82ff0bfe0fd5",
   "metadata": {},
   "outputs": [
    {
     "data": {
      "text/plain": [
       "2957.5004191535095"
      ]
     },
     "execution_count": 162,
     "metadata": {},
     "output_type": "execute_result"
    }
   ],
   "source": [
    "xgb_test_mae"
   ]
  },
  {
   "cell_type": "code",
   "execution_count": 163,
   "id": "82f3229e-f82a-4e79-a4ff-41197aa4ef94",
   "metadata": {},
   "outputs": [
    {
     "data": {
      "text/plain": [
       "0.7839454896275498"
      ]
     },
     "execution_count": 163,
     "metadata": {},
     "output_type": "execute_result"
    }
   ],
   "source": [
    "xgb_test_r2"
   ]
  },
  {
   "cell_type": "markdown",
   "id": "ff8df7d0-5d2e-475e-b66f-31c145b945d5",
   "metadata": {},
   "source": [
    "Оптимизация:"
   ]
  },
  {
   "cell_type": "code",
   "execution_count": 164,
   "id": "f7999cf6-16fb-4683-ac0d-731359c37119",
   "metadata": {},
   "outputs": [],
   "source": [
    "xgb_space = {\n",
    "    \"n_estimators\": hp.quniform(\"n_estimators\", 300, 1500, 50),\n",
    "    \"learning_rate\": hp.loguniform(\"learning_rate\", np.log(0.01), np.log(0.3)),\n",
    "    \"max_depth\": hp.quniform(\"max_depth\", 3, 10, 1),\n",
    "    \"min_child_weight\": hp.loguniform(\"min_child_weight\", np.log(1), np.log(20)),\n",
    "    \"subsample\": hp.uniform(\"subsample\", 0.6, 1.0),\n",
    "    \"colsample_bytree\": hp.uniform(\"colsample_bytree\", 0.6, 1.0),\n",
    "    \"reg_lambda\": hp.loguniform(\"reg_lambda\", np.log(1e-3), np.log(10.0)),\n",
    "    \"reg_alpha\": hp.loguniform(\"reg_alpha\", np.log(1e-6), np.log(1.0))\n",
    "}"
   ]
  },
  {
   "cell_type": "code",
   "execution_count": 171,
   "id": "47e07804-9016-40f3-9994-fc8328cde308",
   "metadata": {},
   "outputs": [
    {
     "name": "stdout",
     "output_type": "stream",
     "text": [
      "100%|██████████| 40/40 [00:16<00:00,  2.47trial/s, best loss: 4280.901598726655]\n"
     ]
    },
    {
     "data": {
      "text/plain": [
       "{'colsample_bytree': np.float64(0.8336363608297255),\n",
       " 'learning_rate': np.float64(0.010192846361566919),\n",
       " 'max_depth': np.float64(3.0),\n",
       " 'min_child_weight': np.float64(1.7979616726533683),\n",
       " 'n_estimators': np.float64(750.0),\n",
       " 'reg_alpha': np.float64(0.005778576714037775),\n",
       " 'reg_lambda': np.float64(0.31183014199029163),\n",
       " 'subsample': np.float64(0.9704154380016944)}"
      ]
     },
     "execution_count": 171,
     "metadata": {},
     "output_type": "execute_result"
    }
   ],
   "source": [
    "def objective(params):\n",
    "    xgb = XGBRegressor(\n",
    "        n_estimators=int(params[\"n_estimators\"]),\n",
    "        learning_rate=float(params[\"learning_rate\"]),\n",
    "        max_depth=int(params[\"max_depth\"]),\n",
    "        min_child_weight=float(params[\"min_child_weight\"]),\n",
    "        subsample=float(params[\"subsample\"]),\n",
    "        colsample_bytree=float(params[\"colsample_bytree\"]),\n",
    "        reg_lambda=float(params[\"reg_lambda\"]),\n",
    "        reg_alpha=float(params[\"reg_alpha\"]),\n",
    "        random_state=42,\n",
    "        n_jobs=-1\n",
    "    )\n",
    "    \n",
    "    xgb.fit(preprocessed_X_train, y_train)\n",
    "\n",
    "    y_xgb_pred_log = xgb.predict(preprocessed_X_test)\n",
    "    y_xgb_pred = np.expm1(y_xgb_pred_log)\n",
    "\n",
    "    rmse = np.sqrt(mean_squared_error(y_test_real, y_xgb_pred))\n",
    "    return {\"loss\": rmse, \"status\": STATUS_OK}\n",
    "\n",
    "trials = Trials()\n",
    "best = fmin(fn=objective, space=xgb_space, algo=tpe.suggest,\n",
    "            max_evals=40, trials=trials, rstate=np.random.default_rng(42))\n",
    "\n",
    "best"
   ]
  },
  {
   "cell_type": "code",
   "execution_count": 172,
   "id": "658fee2a-a3a3-4ad2-8e6f-70af4ce86ebb",
   "metadata": {},
   "outputs": [],
   "source": [
    "xgb = XGBRegressor(\n",
    "        n_estimators=int(best[\"n_estimators\"]),\n",
    "        learning_rate=float(best[\"learning_rate\"]),\n",
    "        max_depth=int(best[\"max_depth\"]),\n",
    "        min_child_weight=float(best[\"min_child_weight\"]),\n",
    "        subsample=float(best[\"subsample\"]),\n",
    "        colsample_bytree=float(best[\"colsample_bytree\"]),\n",
    "        reg_lambda=float(best[\"reg_lambda\"]),\n",
    "        reg_alpha=float(best[\"reg_alpha\"]),\n",
    "        random_state=42,\n",
    "        n_jobs=-1\n",
    "    )\n",
    "    \n",
    "xgb.fit(preprocessed_X_train, y_train)\n",
    "\n",
    "y_xgb_pred_log = xgb.predict(preprocessed_X_test)"
   ]
  },
  {
   "cell_type": "code",
   "execution_count": 173,
   "id": "00e10fd0-b1f2-4fc8-8f18-8c7944aed795",
   "metadata": {},
   "outputs": [],
   "source": [
    "y_xgb_pred_real = np.expm1(y_xgb_pred_log)\n",
    "\n",
    "xgb_test_mse = mean_squared_error(y_test_real, y_xgb_pred_real)\n",
    "xgb_test_mae = mean_absolute_error(y_test_real, y_xgb_pred_real)\n",
    "xgb_test_r2 = r2_score(y_test_real, y_xgb_pred_real)"
   ]
  },
  {
   "cell_type": "code",
   "execution_count": 174,
   "id": "eb7a09b0-eaa3-4810-a88c-1b95a68ebeeb",
   "metadata": {},
   "outputs": [
    {
     "data": {
      "text/plain": [
       "18326118.49798043"
      ]
     },
     "execution_count": 174,
     "metadata": {},
     "output_type": "execute_result"
    }
   ],
   "source": [
    "xgb_test_mse"
   ]
  },
  {
   "cell_type": "code",
   "execution_count": 175,
   "id": "5ba2f85d-7259-4c91-b58a-78797be2090b",
   "metadata": {},
   "outputs": [
    {
     "data": {
      "text/plain": [
       "2045.009477175168"
      ]
     },
     "execution_count": 175,
     "metadata": {},
     "output_type": "execute_result"
    }
   ],
   "source": [
    "xgb_test_mae"
   ]
  },
  {
   "cell_type": "code",
   "execution_count": 176,
   "id": "82d71d72-dd00-477c-9755-54e9b2f7f475",
   "metadata": {},
   "outputs": [
    {
     "data": {
      "text/plain": [
       "0.9002693130503624"
      ]
     },
     "execution_count": 176,
     "metadata": {},
     "output_type": "execute_result"
    }
   ],
   "source": [
    "xgb_test_r2"
   ]
  },
  {
   "cell_type": "markdown",
   "id": "48ccefc6-ccbc-4a16-b9ba-100fa9de750c",
   "metadata": {},
   "source": [
    "## CatBoost"
   ]
  },
  {
   "cell_type": "code",
   "execution_count": 179,
   "id": "9a5f6af2-df8a-4d3a-9114-83dcea3fe006",
   "metadata": {},
   "outputs": [],
   "source": [
    "from catboost import CatBoostRegressor"
   ]
  },
  {
   "cell_type": "code",
   "execution_count": 182,
   "id": "2a8e5b42-e933-43c3-aa01-a973f8c4ddf6",
   "metadata": {},
   "outputs": [],
   "source": [
    "cat = CatBoostRegressor(\n",
    "    iterations=2000, \n",
    "    learning_rate=0.03,\n",
    "    depth=6,\n",
    "    l2_leaf_reg=3.0,\n",
    "    subsample=0.8,\n",
    "    loss_function=\"RMSE\",\n",
    "    random_seed=42,\n",
    "    verbose=False\n",
    ")\n",
    "\n",
    "cat.fit(preprocessed_X_train, y_train)\n",
    "\n",
    "y_cat_pred = cat.predict(preprocessed_X_test)"
   ]
  },
  {
   "cell_type": "code",
   "execution_count": 183,
   "id": "54fb5d5f-df78-4470-986c-6a33a15681e6",
   "metadata": {},
   "outputs": [],
   "source": [
    "y_cat_pred_real = np.expm1(y_cat_pred)\n",
    "\n",
    "cat_test_mse = mean_squared_error(y_test_real, y_cat_pred_real)\n",
    "cat_test_mae = mean_absolute_error(y_test_real, y_cat_pred_real)\n",
    "cat_test_r2 = r2_score(y_test_real, y_cat_pred_real)"
   ]
  },
  {
   "cell_type": "code",
   "execution_count": 184,
   "id": "276909a0-a100-47e3-a7cc-56a24b2a6c08",
   "metadata": {},
   "outputs": [
    {
     "data": {
      "text/plain": [
       "30536341.375258587"
      ]
     },
     "execution_count": 184,
     "metadata": {},
     "output_type": "execute_result"
    }
   ],
   "source": [
    "cat_test_mse"
   ]
  },
  {
   "cell_type": "code",
   "execution_count": 185,
   "id": "79c268fe-bd99-4918-be60-bbe467225cf5",
   "metadata": {},
   "outputs": [
    {
     "data": {
      "text/plain": [
       "2716.7907993873323"
      ]
     },
     "execution_count": 185,
     "metadata": {},
     "output_type": "execute_result"
    }
   ],
   "source": [
    "cat_test_mae"
   ]
  },
  {
   "cell_type": "code",
   "execution_count": 186,
   "id": "4776d234-157e-49fa-9573-3eaf1d5fcdb2",
   "metadata": {},
   "outputs": [
    {
     "data": {
      "text/plain": [
       "0.8338213134102135"
      ]
     },
     "execution_count": 186,
     "metadata": {},
     "output_type": "execute_result"
    }
   ],
   "source": [
    "cat_test_r2"
   ]
  },
  {
   "cell_type": "code",
   "execution_count": null,
   "id": "6a0c82eb-a8b0-4373-a31c-9b5a5e849f42",
   "metadata": {},
   "outputs": [],
   "source": []
  }
 ],
 "metadata": {
  "kernelspec": {
   "display_name": "Python 3 (ipykernel)",
   "language": "python",
   "name": "python3"
  },
  "language_info": {
   "codemirror_mode": {
    "name": "ipython",
    "version": 3
   },
   "file_extension": ".py",
   "mimetype": "text/x-python",
   "name": "python",
   "nbconvert_exporter": "python",
   "pygments_lexer": "ipython3",
   "version": "3.13.5"
  }
 },
 "nbformat": 4,
 "nbformat_minor": 5
}
