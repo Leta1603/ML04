{
 "cells": [
  {
   "cell_type": "code",
   "execution_count": 1,
   "id": "c614a343-1326-4ca8-b371-377cd50f9b71",
   "metadata": {},
   "outputs": [
    {
     "name": "stdout",
     "output_type": "stream",
     "text": [
      "A:\n",
      "1 2 3 \n",
      "4 5 6 \n",
      "\n",
      "B:\n",
      "7 8 9 \n",
      "1 2 3 \n",
      "\n",
      "A + B:\n",
      "8 10 12 \n",
      "5 7 9 \n",
      "\n",
      "A * 2:\n",
      "2 4 6 \n",
      "8 10 12 \n",
      "\n"
     ]
    }
   ],
   "source": [
    "class Matrix:\n",
    "    def __init__(self, data):\n",
    "        self.data = data\n",
    "        self.rows = len(data)\n",
    "        self.cols = len(data[0])\n",
    "\n",
    "    def __str__(self):\n",
    "        result = \"\"\n",
    "        for row in self.data:\n",
    "            for value in row:\n",
    "                result += str(value) + \" \"\n",
    "            result += \"\\n\"\n",
    "        return result\n",
    "\n",
    "    def __add__(self, other):\n",
    "        new_data = []\n",
    "        for i in range(self.rows):\n",
    "            new_row = []\n",
    "            for j in range(self.cols):\n",
    "                new_row.append(self.data[i][j] + other.data[i][j])\n",
    "            new_data.append(new_row)\n",
    "        return Matrix(new_data)\n",
    "\n",
    "    def __mul__(self, k):\n",
    "        new_data = []\n",
    "        for i in range(self.rows):\n",
    "            new_row = []\n",
    "            for j in range(self.cols):\n",
    "                new_row.append(self.data[i][j] * k)\n",
    "            new_data.append(new_row)\n",
    "        return Matrix(new_data)\n",
    "\n",
    "A = Matrix([[1, 2, 3],\n",
    "            [4, 5, 6]])\n",
    "\n",
    "B = Matrix([[7, 8, 9],\n",
    "            [1, 2, 3]])\n",
    "\n",
    "print(\"A:\")\n",
    "print(A)\n",
    "\n",
    "print(\"B:\")\n",
    "print(B)\n",
    "\n",
    "print(\"A + B:\")\n",
    "print(A + B)\n",
    "\n",
    "print(\"A * 2:\")\n",
    "print(A * 2)"
   ]
  },
  {
   "cell_type": "code",
   "execution_count": null,
   "id": "ac8731fd-72a4-4047-9838-9751085ae081",
   "metadata": {},
   "outputs": [],
   "source": []
  }
 ],
 "metadata": {
  "kernelspec": {
   "display_name": "Python 3 (ipykernel)",
   "language": "python",
   "name": "python3"
  },
  "language_info": {
   "codemirror_mode": {
    "name": "ipython",
    "version": 3
   },
   "file_extension": ".py",
   "mimetype": "text/x-python",
   "name": "python",
   "nbconvert_exporter": "python",
   "pygments_lexer": "ipython3",
   "version": "3.13.5"
  }
 },
 "nbformat": 4,
 "nbformat_minor": 5
}
