{
 "cells": [
  {
   "cell_type": "markdown",
   "id": "94186da4-bfe6-4b52-9557-1f8a70c24920",
   "metadata": {},
   "source": [
    "# Теория графов, алгоритмы и применение в ML/DL\n",
    "\n",
    "## 1. Что такое графы?\n",
    "\n",
    "**Граф** — это структура данных, состоящая из:\n",
    "- **вершин (nodes, vertices)** — объекты (люди, города, сайты и т.д.)\n",
    "- **рёбер (edges)** — связи между вершинами (дружба, дорога, ссылка и т.д.)\n",
    "\n",
    "### Виды графов:\n",
    "- **Ненаправленный граф** — связь двусторонняя (A ↔ B)  \n",
    "- **Направленный граф (ориентированный)** — связь односторонняя (A → B)\n",
    "- **Взвешенный граф** — каждому ребру приписан вес (например, расстояние)\n",
    "- **Невзвешенный граф** — все рёбра равны по \"стоимости\"\n",
    "- **Циклический / ациклический граф**\n",
    "- **Связный / несвязный граф**\n"
   ]
  },
  {
   "cell_type": "markdown",
   "id": "8d0e0367-4f42-43ce-ae18-cbb3ecbc898b",
   "metadata": {},
   "source": [
    "### Пример в Python (с библиотекой networkx)"
   ]
  },
  {
   "cell_type": "code",
   "execution_count": 4,
   "id": "834fa726-113d-4809-88e7-48d960df2558",
   "metadata": {},
   "outputs": [
    {
     "data": {
      "image/png": "[encoded data removed]",
      "text/plain": [
       "<Figure size 640x480 with 1 Axes>"
      ]
     },
     "metadata": {},
     "output_type": "display_data"
    }
   ],
   "source": [
    "import networkx as nx\n",
    "import matplotlib.pyplot as plt\n",
    "\n",
    "G = nx.Graph()\n",
    "G.add_edges_from([('A', 'B'), ('A', 'C'), ('B', 'D'), ('C', 'D')])\n",
    "\n",
    "nx.draw(G, with_labels=True, node_color='lightblue', node_size=1000, font_size=14)\n",
    "plt.show()\n"
   ]
  },
  {
   "cell_type": "markdown",
   "id": "9860bbf1-6ef6-40ad-8476-6efe7d03af5c",
   "metadata": {},
   "source": [
    "## 2. Основные алгоритмы на графах\n",
    "\n",
    "### 🔹 2.1 Поиск в ширину (BFS)\n",
    "- Используется для нахождения кратчайшего пути в **невзвешенном графе**\n",
    "- Основан на очереди (FIFO)\n",
    "- Применяется: социальные сети (поиск друзей), сетевые маршруты\n",
    "\n"
   ]
  },
  {
   "cell_type": "code",
   "execution_count": 5,
   "id": "43cc7af4-581b-4afd-b5c3-6e089a5249b3",
   "metadata": {},
   "outputs": [
    {
     "name": "stdout",
     "output_type": "stream",
     "text": [
      "A C B D "
     ]
    }
   ],
   "source": [
    "from collections import deque\n",
    "\n",
    "def bfs(graph, start):\n",
    "    visited = set()\n",
    "    queue = deque([start])\n",
    "    while queue:\n",
    "        v = queue.popleft()\n",
    "        if v not in visited:\n",
    "            visited.add(v)\n",
    "            print(v, end=' ')\n",
    "            queue.extend(set(graph[v]) - visited)\n",
    "\n",
    "graph = {\n",
    "    'A': ['B', 'C'],\n",
    "    'B': ['D'],\n",
    "    'C': ['D'],\n",
    "    'D': []\n",
    "}\n",
    "\n",
    "bfs(graph, 'A')\n"
   ]
  },
  {
   "cell_type": "markdown",
   "id": "03637ad7-ea0c-4b10-8223-97ece49c4aba",
   "metadata": {},
   "source": [
    "### 🔹 2.2 Поиск в глубину (DFS)\n",
    "- Использует стек (рекурсию)\n",
    "- Применяется: проверка связности, топологическая сортировка, поиск циклов\n"
   ]
  },
  {
   "cell_type": "code",
   "execution_count": 7,
   "id": "92bcd1b0-b6f7-448b-afbf-02b06057ed3d",
   "metadata": {},
   "outputs": [
    {
     "name": "stdout",
     "output_type": "stream",
     "text": [
      "A B D C "
     ]
    }
   ],
   "source": [
    "def dfs(graph, start, visited=None):\n",
    "    if visited is None:\n",
    "        visited = set()\n",
    "    visited.add(start)\n",
    "    print(start, end=' ')\n",
    "    for neighbor in graph[start]:\n",
    "        if neighbor not in visited:\n",
    "            dfs(graph, neighbor, visited)\n",
    "            \n",
    "dfs(graph, 'A')\n"
   ]
  },
  {
   "cell_type": "markdown",
   "id": "74a5304b-5888-4c35-882c-cf533ea0adfe",
   "metadata": {},
   "source": [
    "### 🔹 2.3 Алгоритм Дейкстры\n",
    "- Находит **кратчайший путь** в **взвешенном графе** без отрицательных весов\n",
    "- Используется в GPS, навигации, сетевых маршрутах"
   ]
  },
  {
   "cell_type": "code",
   "execution_count": 8,
   "id": "3f51eaae-0c2d-48da-824c-e18927486cdf",
   "metadata": {},
   "outputs": [
    {
     "data": {
      "text/plain": [
       "{'A': 0, 'B': 1, 'C': 3, 'D': 4}"
      ]
     },
     "execution_count": 8,
     "metadata": {},
     "output_type": "execute_result"
    }
   ],
   "source": [
    "import heapq\n",
    "\n",
    "def dijkstra(graph, start):\n",
    "    distances = {node: float('inf') for node in graph}\n",
    "    distances[start] = 0\n",
    "    pq = [(0, start)]\n",
    "\n",
    "    while pq:\n",
    "        curr_dist, node = heapq.heappop(pq)\n",
    "        if curr_dist > distances[node]:\n",
    "            continue\n",
    "        for neighbor, weight in graph[node].items():\n",
    "            distance = curr_dist + weight\n",
    "            if distance < distances[neighbor]:\n",
    "                distances[neighbor] = distance\n",
    "                heapq.heappush(pq, (distance, neighbor))\n",
    "    return distances\n",
    "\n",
    "graph_w = {\n",
    "    'A': {'B': 1, 'C': 4},\n",
    "    'B': {'C': 2, 'D': 5},\n",
    "    'C': {'D': 1},\n",
    "    'D': {}\n",
    "}\n",
    "\n",
    "dijkstra(graph_w, 'A')\n"
   ]
  },
  {
   "cell_type": "markdown",
   "id": "aaa072cb-3aef-4b0d-b5a3-b21aa11193e2",
   "metadata": {},
   "source": [
    "### 🔹 2.4 Алгоритм Крускала и Прима\n",
    "- Используются для **поиска минимального остовного дерева (MST)**  \n",
    "- Применяются в электросетях, оптимизации маршрутов и кабелей\n",
    "\n",
    "**Kruskal:** добавляет рёбра по возрастанию веса, избегая циклов  \n",
    "**Prim:** растит дерево из одной вершины\n",
    "\n",
    "---\n",
    "\n",
    "## 3. Применение графов в реальной жизни\n",
    "\n",
    "| Сфера | Пример использования |\n",
    "|-------|----------------------|\n",
    "| Социальные сети | Связи между пользователями, рекомендации друзей |\n",
    "| Интернет | Ссылки между страницами (Google PageRank) |\n",
    "| Транспорт | Навигация, оптимизация маршрутов |\n",
    "| Биология | Белковые взаимодействия, гены |\n",
    "| Рекомендательные системы | Анализ связей между пользователями и товарами |\n",
    "\n",
    "---\n",
    "\n",
    "## 4. Графы в машинном обучении и нейронных сетях\n",
    "\n",
    "### 4.1 Применение в ML\n",
    "- Представление данных в виде **графов** позволяет моделировать сложные связи:\n",
    "  - Социальные сети (узлы — пользователи)\n",
    "  - Рекомендательные системы (узлы — пользователи и товары)\n",
    "  - Химические молекулы (атомы и связи)\n",
    "  - Знаниевые графы (Knowledge Graphs)\n",
    "\n",
    "### 4.2 Графовые нейронные сети (GNNs)\n",
    "**Graph Neural Networks (GNN)** — нейросети, работающие **не с матрицами, а с графами.**\n",
    "\n",
    "Идея:\n",
    "- Каждый узел имеет **вектор признаков**\n",
    "- Узлы **обмениваются информацией** с соседями (\"сообщения\")\n",
    "- После нескольких итераций узел знает контекст своей окрестности\n",
    "\n",
    "### Основные типы:\n",
    "| Модель | Суть | Применение |\n",
    "|--------|------|-------------|\n",
    "| **GCN (Graph Convolutional Network)** | Аналог свёртки, но для графов | Классификация узлов |\n",
    "| **GraphSAGE** | Семплирование соседей узла | Рекомендации, соц. сети |\n",
    "| **GAT (Graph Attention Network)** | Веса внимания для соседей | Более точная передача контекста |\n",
    "| **R-GCN (Relational GCN)** | Учитывает типы связей | Знаниевые графы, NLP |\n",
    "\n",
    "---\n",
    "\n",
    "## 5. Успешные применения GNN\n",
    "\n",
    "| Сфера | Пример | Результат |\n",
    "|-------|---------|------------|\n",
    "| Социальные сети | LinkedIn, Pinterest, Twitter | Рекомендации друзей, контента |\n",
    "| Рекомендательные системы | Amazon, Alibaba | Улучшение рекомендаций на графах |\n",
    "| Химия и медицина | DeepMind, MoleculeNet | Предсказание свойств молекул |\n",
    "| Знаниевые графы | Google Knowledge Graph | Понимание смысловых связей |\n",
    "| Компьютерное зрение | Scene Graphs | Анализ объектов и их отношений |\n",
    "\n",
    "---\n",
    "\n",
    "## 6. Ключевые понятия в графовом ML\n",
    "\n",
    "| Термин | Объяснение |\n",
    "|--------|-------------|\n",
    "| **Node embedding** | Преобразование узлов графа в векторы |\n",
    "| **Message passing** | Передача информации между соседями |\n",
    "| **Adjacency matrix** | Матрица связей между вершинами |\n",
    "| **Aggregation** | Сбор признаков от соседей |\n",
    "| **Pooling** | Сжатие подграфов (аналог max-pooling в CNN) |\n",
    "\n",
    "---\n",
    "\n",
    "## 7. Полезные библиотеки\n",
    "- **NetworkX** — базовая работа с графами\n",
    "- **DGL (Deep Graph Library)** — нейросети на графах\n",
    "- **PyTorch Geometric (PyG)** — GNN в PyTorch\n",
    "- **StellarGraph** — удобна для рекомендаций и node classification\n",
    "\n",
    "---\n",
    "\n",
    "## 8. Пример: обучение GNN\n"
   ]
  },
  {
   "cell_type": "code",
   "execution_count": 9,
   "id": "0dd41e9a-757c-4235-a0e0-0bddb2d8686a",
   "metadata": {},
   "outputs": [],
   "source": [
    "# Пример с PyTorch Geometric (устанавливается отдельно)\n",
    "# pip install torch-geometric torch-sparse torch-scatter\n",
    "\n",
    "# from torch_geometric.datasets import KarateClub\n",
    "# from torch_geometric.nn import GCNConv\n",
    "# import torch.nn.functional as F\n",
    "# import torch\n",
    "\n",
    "# dataset = KarateClub()\n",
    "# data = dataset[0]\n",
    "\n",
    "# class GCN(torch.nn.Module):\n",
    "#     def __init__(self):\n",
    "#         super().__init__()\n",
    "#         self.conv1 = GCNConv(dataset.num_features, 16)\n",
    "#         self.conv2 = GCNConv(16, dataset.num_classes)\n",
    "    \n",
    "#     def forward(self, data):\n",
    "#         x, edge_index = data.x, data.edge_index\n",
    "#         x = F.relu(self.conv1(x, edge_index))\n",
    "#         x = F.dropout(x, training=self.training)\n",
    "#         x = self.conv2(x, edge_index)\n",
    "#         return F.log_softmax(x, dim=1)\n",
    "\n",
    "# model = GCN()\n",
    "# print(model)"
   ]
  },
  {
   "cell_type": "markdown",
   "id": "ca54ffc4-e42a-4ebd-af0c-891dfbeb4666",
   "metadata": {},
   "source": [
    "## Итог\n",
    "\n",
    "- **Графы** — универсальный способ моделировать связи между объектами.  \n",
    "- **Классические алгоритмы (BFS, DFS, Dijkstra, Kruskal)** — основа многих приложений.  \n",
    "- В **ML/DL** графы стали особенно важны:  \n",
    "  - для **социальных сетей, рекомендаций, биоинформатики, NLP**  \n",
    "  - графовые нейросети (**GNN, GCN, GraphSAGE, GAT**) активно развиваются  \n",
    "- Это одно из **самых перспективных направлений Deep Learning** в последние годы.\n"
   ]
  },
  {
   "cell_type": "code",
   "execution_count": null,
   "id": "614da409-31cd-467a-9e8e-4bc2c4397327",
   "metadata": {},
   "outputs": [],
   "source": []
  }
 ],
 "metadata": {
  "kernelspec": {
   "display_name": "Python 3 (ipykernel)",
   "language": "python",
   "name": "python3"
  },
  "language_info": {
   "codemirror_mode": {
    "name": "ipython",
    "version": 3
   },
   "file_extension": ".py",
   "mimetype": "text/x-python",
   "name": "python",
   "nbconvert_exporter": "python",
   "pygments_lexer": "ipython3",
   "version": "3.13.5"
  }
 },
 "nbformat": 4,
 "nbformat_minor": 5
}
